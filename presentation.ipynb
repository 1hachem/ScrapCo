{
 "cells": [
  {
   "cell_type": "markdown",
   "id": "785d3218-97e7-43e4-8e98-407d2e4090b7",
   "metadata": {},
   "source": [
    "# company compare BI tool <img src=\"https://cdn-icons-png.flaticon.com/512/923/923051.png\" width=\"50px\">\n",
    "\n",
    "## module 1 : Scrapping tool\n",
    "\n",
    "this is a live demo for our BI tool. \n",
    "\n",
    "it consist mainly of two parts :\n",
    "\n",
    "- a `company_compare` package with it submodules :  `get_names`, `get_stats`, `get_contacts`\n",
    "\n",
    "- an interactive dashboard enabling the visualization of the results. "
   ]
  },
  {
   "cell_type": "code",
   "execution_count": 1,
   "id": "c24bb6e8-129c-462e-a38f-2009c237026f",
   "metadata": {},
   "outputs": [],
   "source": [
    "import pandas as pd\n",
    "import numpy as np\n",
    "import plotly.express as ex\n",
    "\n",
    "# our tool\n",
    "from ScrapCo import get_contacts, get_names, get_stats"
   ]
  },
  {
   "cell_type": "markdown",
   "id": "08041ab8-7dbc-45c9-810e-e6960aa1dc91",
   "metadata": {
    "tags": []
   },
   "source": [
    "### now we will proceed by showcasing how to use these submodules "
   ]
  },
  {
   "cell_type": "markdown",
   "id": "6c4e0488-95fc-46b9-aac2-b8df2af2b2d7",
   "metadata": {},
   "source": [
    "**company_compare.get_names(field)**\n",
    "\n",
    "this method will get you a list of names of companies in a certain field.\n",
    "\n",
    "ex. `electronic-components`, `artificial-intelligence`, `cloud` ... and so on"
   ]
  },
  {
   "cell_type": "code",
   "execution_count": 6,
   "id": "db95ad9b-250d-4896-8400-ef84dd655343",
   "metadata": {},
   "outputs": [
    {
     "name": "stdout",
     "output_type": "stream",
     "text": [
      "saved names in data/company_names_by_field/artificial-intelligence.txt\n"
     ]
    }
   ],
   "source": [
    "##example\n",
    "names = get_names(\"artificial-intelligence\")"
   ]
  },
  {
   "cell_type": "code",
   "execution_count": 7,
   "id": "710364d5-87c2-4fae-8d58-d36bbbf00ef9",
   "metadata": {},
   "outputs": [
    {
     "data": {
      "text/plain": [
       "['Baidu',\n",
       " 'Pegasystems',\n",
       " 'UiPath',\n",
       " 'Dynatrace',\n",
       " 'Nuance',\n",
       " 'Capgemini',\n",
       " 'Upstart',\n",
       " 'Criteo',\n",
       " 'Xiaomi',\n",
       " 'SecureWorks',\n",
       " 'Opera',\n",
       " 'Taboola',\n",
       " 'Altair Engineering',\n",
       " 'Health Catalyst',\n",
       " 'Atos',\n",
       " 'SentinelOne',\n",
       " 'SimilarWeb',\n",
       " 'Nimble Storage',\n",
       " 'Wacom',\n",
       " 'Consensus Cloud Solutions',\n",
       " 'Baidu',\n",
       " 'Pegasystems',\n",
       " 'Upstart',\n",
       " 'Taboola',\n",
       " 'Health Catalyst',\n",
       " 'SentinelOne',\n",
       " 'SimilarWeb',\n",
       " 'Consensus Cloud Solutions',\n",
       " 'AbCellera Biologics',\n",
       " 'Veritone',\n",
       " 'Meltwater',\n",
       " 'Molecular Data',\n",
       " 'Biodesix',\n",
       " 'Darktrace',\n",
       " 'Lionbridge',\n",
       " 'Blue Prism',\n",
       " 'Coveo',\n",
       " 'GK Software',\n",
       " 'Amesite',\n",
       " 'Bigtincan',\n",
       " 'BlackBerry',\n",
       " 'Veritone',\n",
       " 'C3.ai',\n",
       " 'LAIX',\n",
       " 'Yandex',\n",
       " 'Darktrace',\n",
       " 'Lionbridge',\n",
       " 'Appen',\n",
       " 'Cray',\n",
       " 'AEye',\n",
       " 'Blue Prism',\n",
       " 'Arteris',\n",
       " 'Coveo',\n",
       " 'Engagement Labs',\n",
       " 'Solteq',\n",
       " 'expert.ai',\n",
       " 'LongFin',\n",
       " 'meta',\n",
       " 'Ramco Systems',\n",
       " 'ContextVision',\n",
       " 'Pegasystems',\n",
       " 'UiPath',\n",
       " 'Bill.com',\n",
       " 'Dynatrace',\n",
       " 'Altair Engineering',\n",
       " 'Health Catalyst',\n",
       " 'Atos',\n",
       " 'Nimble Storage',\n",
       " 'BlackBerry',\n",
       " 'Avast',\n",
       " 'C3.ai',\n",
       " 'Meltwater',\n",
       " 'Cigniti',\n",
       " 'Biodesix',\n",
       " 'Darktrace',\n",
       " 'Appen',\n",
       " 'Cray',\n",
       " 'Alight',\n",
       " 'Blue Prism',\n",
       " 'Inuvo',\n",
       " 'Bill.com',\n",
       " 'Upstart',\n",
       " 'Ideanomics',\n",
       " 'Safeguard Scientifics',\n",
       " 'LongFin',\n",
       " 'Greater Than',\n",
       " 'Metaps',\n",
       " 'Temenos',\n",
       " 'Onfido',\n",
       " 'Shield',\n",
       " 'Origo',\n",
       " 'Cybertonica',\n",
       " 'Cleo AI',\n",
       " 'R Systems',\n",
       " 'CityFalcon',\n",
       " 'Acuity Trading',\n",
       " 'Heliocor',\n",
       " 'FLYR',\n",
       " 'Chip',\n",
       " 'AlphaSense',\n",
       " 'Nuance',\n",
       " 'Avast',\n",
       " 'Babylon Health',\n",
       " 'Yandex',\n",
       " 'One Stop Systems',\n",
       " 'Marchex',\n",
       " 'EdgeVerve',\n",
       " 'EVRY',\n",
       " 'Avanade',\n",
       " 'Beijing Teamsun Technology',\n",
       " 'ExaWizards',\n",
       " 'iAR',\n",
       " 'VisionTrack',\n",
       " 'Conviva',\n",
       " 'Blippar',\n",
       " 'Findify',\n",
       " 'Babylon',\n",
       " 'Avision',\n",
       " 'SonoSim',\n",
       " 'Cognism']"
      ]
     },
     "execution_count": 7,
     "metadata": {},
     "output_type": "execute_result"
    }
   ],
   "source": [
    "names"
   ]
  },
  {
   "cell_type": "markdown",
   "id": "fc5b0370-d720-42da-9561-52e0f13d726f",
   "metadata": {},
   "source": [
    "-------------------------"
   ]
  },
  {
   "cell_type": "markdown",
   "id": "a700a894-7d0d-4fc0-8882-195dbac68fb2",
   "metadata": {},
   "source": [
    "**company_compare.get_contacts(company_name)**\n",
    "\n",
    "this method will get you a table of contacts with the columns : `name`, `position` and a `link` to linkedin profile.\n",
    "once you have a target company in mind, you just need to insert it name."
   ]
  },
  {
   "cell_type": "code",
   "execution_count": 4,
   "id": "17f87e20-ac6a-4202-a8bc-140109c2d13b",
   "metadata": {},
   "outputs": [
    {
     "name": "stdout",
     "output_type": "stream",
     "text": [
      "saved contacts in data/company_contacts/intel.csv\n"
     ]
    }
   ],
   "source": [
    "##example\n",
    "get_contacts(\"intel\")"
   ]
  },
  {
   "cell_type": "code",
   "execution_count": 8,
   "id": "13ab2e74-5044-40fd-b48f-5bc327e90804",
   "metadata": {},
   "outputs": [
    {
     "data": {
      "text/html": [
       "<div>\n",
       "<style scoped>\n",
       "    .dataframe tbody tr th:only-of-type {\n",
       "        vertical-align: middle;\n",
       "    }\n",
       "\n",
       "    .dataframe tbody tr th {\n",
       "        vertical-align: top;\n",
       "    }\n",
       "\n",
       "    .dataframe thead th {\n",
       "        text-align: right;\n",
       "    }\n",
       "</style>\n",
       "<table border=\"1\" class=\"dataframe\">\n",
       "  <thead>\n",
       "    <tr style=\"text-align: right;\">\n",
       "      <th></th>\n",
       "      <th>name</th>\n",
       "      <th>position</th>\n",
       "      <th>linkedin</th>\n",
       "    </tr>\n",
       "  </thead>\n",
       "  <tbody>\n",
       "    <tr>\n",
       "      <th>0</th>\n",
       "      <td>Patrick Gelsinger</td>\n",
       "      <td>Chief Executive Officer</td>\n",
       "      <td>https://www.linkedin.com/in/patgelsinger/</td>\n",
       "    </tr>\n",
       "    <tr>\n",
       "      <th>1</th>\n",
       "      <td>George S. Davis</td>\n",
       "      <td>Chief Financial Officer| Executive Vice President</td>\n",
       "      <td>https://www.twitter.com/@PGelsinger</td>\n",
       "    </tr>\n",
       "    <tr>\n",
       "      <th>2</th>\n",
       "      <td>Michelle Johnston Holthaus</td>\n",
       "      <td>Executive Vice President; General Manager| Cli...</td>\n",
       "      <td>https://www.linkedin.com/in/michellejohnstonho...</td>\n",
       "    </tr>\n",
       "    <tr>\n",
       "      <th>3</th>\n",
       "      <td>Safroadu Yeboah-Amankwah</td>\n",
       "      <td>Chief Strategy Officer| Senior Vice President</td>\n",
       "      <td>https://www.linkedin.com/in/christy-pambianchi/</td>\n",
       "    </tr>\n",
       "    <tr>\n",
       "      <th>4</th>\n",
       "      <td>Christine Pambianchi</td>\n",
       "      <td>Chief People Officer| Executive Vice President</td>\n",
       "      <td>https://www.linkedin.com/in/sandra-rivera-6a24...</td>\n",
       "    </tr>\n",
       "    <tr>\n",
       "      <th>5</th>\n",
       "      <td>Sandra Rivera</td>\n",
       "      <td>Executive Vice President| General Manager| Dat...</td>\n",
       "      <td>https://www.linkedin.com/in/archie-deskus-985b...</td>\n",
       "    </tr>\n",
       "    <tr>\n",
       "      <th>6</th>\n",
       "      <td>Archana Deskus</td>\n",
       "      <td>Chief Information Officer| Senior Vice President</td>\n",
       "      <td>https://www.linkedin.com/in/karenmwalker/</td>\n",
       "    </tr>\n",
       "    <tr>\n",
       "      <th>7</th>\n",
       "      <td>Karen M. Walker</td>\n",
       "      <td>Chief Marketing Officer| Senior Vice President</td>\n",
       "      <td>https://twitter.com/KarMWalker</td>\n",
       "    </tr>\n",
       "    <tr>\n",
       "      <th>8</th>\n",
       "      <td>Greg Lavender</td>\n",
       "      <td>Chief Technology Officer| Senior Vice Presiden...</td>\n",
       "      <td>https://www.linkedin.com/in/greglavender/</td>\n",
       "    </tr>\n",
       "    <tr>\n",
       "      <th>9</th>\n",
       "      <td>Navin Shenoy</td>\n",
       "      <td>Executive Vice President and General Manager| ...</td>\n",
       "      <td>https://www.linkedin.com/in/navin-shenoy-9b600...</td>\n",
       "    </tr>\n",
       "    <tr>\n",
       "      <th>10</th>\n",
       "      <td>Ann B. Kelleher</td>\n",
       "      <td>Senior Vice President and General Manager of T...</td>\n",
       "      <td>https://www.linkedin.com/in/ann-kelleher-6184b89/</td>\n",
       "    </tr>\n",
       "    <tr>\n",
       "      <th>11</th>\n",
       "      <td>Raja M. Koduri</td>\n",
       "      <td>Senior Vice President| General Manager| Accele...</td>\n",
       "      <td>https://www.linkedin.com/in/raja-koduri-3a51611/</td>\n",
       "    </tr>\n",
       "    <tr>\n",
       "      <th>12</th>\n",
       "      <td>Allon Stabinsky</td>\n",
       "      <td>Senior Vice President| Chief Deputy General Co...</td>\n",
       "      <td>https://www.linkedin.com/in/allon-stabinsky-57...</td>\n",
       "    </tr>\n",
       "    <tr>\n",
       "      <th>13</th>\n",
       "      <td>Thomas P. Lantzsch</td>\n",
       "      <td>Senior Vice President| General Manager| Intern...</td>\n",
       "      <td>https://www.linkedin.com/in/thomas-tom-lantzsc...</td>\n",
       "    </tr>\n",
       "    <tr>\n",
       "      <th>14</th>\n",
       "      <td>Amnon Shashua</td>\n",
       "      <td>Senior Vice President| President and CEO of Mo...</td>\n",
       "      <td>https://www.linkedin.com/in/amnon-shashua/</td>\n",
       "    </tr>\n",
       "    <tr>\n",
       "      <th>15</th>\n",
       "      <td>Randhir Thakur</td>\n",
       "      <td>Senior Vice President| President of Intel Foun...</td>\n",
       "      <td>https://www.linkedin.com/in/dr-randhir-thakur-...</td>\n",
       "    </tr>\n",
       "    <tr>\n",
       "      <th>16</th>\n",
       "      <td>Nick McKeown</td>\n",
       "      <td>Senior Vice President| General Manager| Networ...</td>\n",
       "      <td>https://www.linkedin.com/in/nick-mckeown-4902716/</td>\n",
       "    </tr>\n",
       "    <tr>\n",
       "      <th>17</th>\n",
       "      <td>Sunil Shenoy</td>\n",
       "      <td>Senior Vice President| General Manager| Design...</td>\n",
       "      <td>https://www.linkedin.com/in/sunil-shenoy-05ab4b7/</td>\n",
       "    </tr>\n",
       "    <tr>\n",
       "      <th>18</th>\n",
       "      <td>Rui Wang</td>\n",
       "      <td>Senior Vice President| Chair of Intel China</td>\n",
       "      <td>https://www.linkedin.com/in/rui-wang-7b4a37/</td>\n",
       "    </tr>\n",
       "    <tr>\n",
       "      <th>19</th>\n",
       "      <td>Keyvan Esfarjani</td>\n",
       "      <td>Executive Vice President; Chief Global Operati...</td>\n",
       "      <td>https://www.linkedin.com/in/keyvan-esfarjani-3...</td>\n",
       "    </tr>\n",
       "    <tr>\n",
       "      <th>20</th>\n",
       "      <td>Richard A. Uhlig</td>\n",
       "      <td>VP of Technology| Systems Architecture and Cli...</td>\n",
       "      <td>https://www.linkedin.com/in/richard-uhlig-6615...</td>\n",
       "    </tr>\n",
       "    <tr>\n",
       "      <th>21</th>\n",
       "      <td>Omar Ishrak</td>\n",
       "      <td>Chairman of the Board</td>\n",
       "      <td>https://www.linkedin.com/in/omar-ishrak/</td>\n",
       "    </tr>\n",
       "    <tr>\n",
       "      <th>22</th>\n",
       "      <td>Jim Goetz</td>\n",
       "      <td>Independent Director</td>\n",
       "      <td>https://www.linkedin.com/in/goetzjim/</td>\n",
       "    </tr>\n",
       "    <tr>\n",
       "      <th>23</th>\n",
       "      <td>Andrea J. Goldsmith</td>\n",
       "      <td>Independent Director</td>\n",
       "      <td>https://twitter.com/jimgoetz</td>\n",
       "    </tr>\n",
       "    <tr>\n",
       "      <th>24</th>\n",
       "      <td>Alyssa Henry</td>\n",
       "      <td>Independent Director</td>\n",
       "      <td>https://www.linkedin.com/in/andrea-goldsmith-0...</td>\n",
       "    </tr>\n",
       "    <tr>\n",
       "      <th>25</th>\n",
       "      <td>Tsu-Jae King Liu</td>\n",
       "      <td>Independent Director</td>\n",
       "      <td>https://www.linkedin.com/in/alyssa-henry-0905692/</td>\n",
       "    </tr>\n",
       "    <tr>\n",
       "      <th>26</th>\n",
       "      <td>Risa Lavizzo-Mourey</td>\n",
       "      <td>Independent Director</td>\n",
       "      <td>https://www.linkedin.com/in/risalavizzo/</td>\n",
       "    </tr>\n",
       "    <tr>\n",
       "      <th>27</th>\n",
       "      <td>Dion J. Weisler</td>\n",
       "      <td>Independent Director</td>\n",
       "      <td>https://www.linkedin.com/in/dion-weisler-4355183/</td>\n",
       "    </tr>\n",
       "    <tr>\n",
       "      <th>28</th>\n",
       "      <td>Frank D. Yeary</td>\n",
       "      <td>Director</td>\n",
       "      <td>https://www.linkedin.com/in/198505/</td>\n",
       "    </tr>\n",
       "  </tbody>\n",
       "</table>\n",
       "</div>"
      ],
      "text/plain": [
       "                          name  \\\n",
       "0            Patrick Gelsinger   \n",
       "1              George S. Davis   \n",
       "2   Michelle Johnston Holthaus   \n",
       "3     Safroadu Yeboah-Amankwah   \n",
       "4         Christine Pambianchi   \n",
       "5                Sandra Rivera   \n",
       "6               Archana Deskus   \n",
       "7              Karen M. Walker   \n",
       "8                Greg Lavender   \n",
       "9                 Navin Shenoy   \n",
       "10             Ann B. Kelleher   \n",
       "11              Raja M. Koduri   \n",
       "12             Allon Stabinsky   \n",
       "13          Thomas P. Lantzsch   \n",
       "14               Amnon Shashua   \n",
       "15              Randhir Thakur   \n",
       "16                Nick McKeown   \n",
       "17                Sunil Shenoy   \n",
       "18                    Rui Wang   \n",
       "19            Keyvan Esfarjani   \n",
       "20            Richard A. Uhlig   \n",
       "21                 Omar Ishrak   \n",
       "22                   Jim Goetz   \n",
       "23         Andrea J. Goldsmith   \n",
       "24                Alyssa Henry   \n",
       "25            Tsu-Jae King Liu   \n",
       "26         Risa Lavizzo-Mourey   \n",
       "27             Dion J. Weisler   \n",
       "28              Frank D. Yeary   \n",
       "\n",
       "                                             position  \\\n",
       "0                             Chief Executive Officer   \n",
       "1   Chief Financial Officer| Executive Vice President   \n",
       "2   Executive Vice President; General Manager| Cli...   \n",
       "3       Chief Strategy Officer| Senior Vice President   \n",
       "4      Chief People Officer| Executive Vice President   \n",
       "5   Executive Vice President| General Manager| Dat...   \n",
       "6    Chief Information Officer| Senior Vice President   \n",
       "7      Chief Marketing Officer| Senior Vice President   \n",
       "8   Chief Technology Officer| Senior Vice Presiden...   \n",
       "9   Executive Vice President and General Manager| ...   \n",
       "10  Senior Vice President and General Manager of T...   \n",
       "11  Senior Vice President| General Manager| Accele...   \n",
       "12  Senior Vice President| Chief Deputy General Co...   \n",
       "13  Senior Vice President| General Manager| Intern...   \n",
       "14  Senior Vice President| President and CEO of Mo...   \n",
       "15  Senior Vice President| President of Intel Foun...   \n",
       "16  Senior Vice President| General Manager| Networ...   \n",
       "17  Senior Vice President| General Manager| Design...   \n",
       "18        Senior Vice President| Chair of Intel China   \n",
       "19  Executive Vice President; Chief Global Operati...   \n",
       "20  VP of Technology| Systems Architecture and Cli...   \n",
       "21                              Chairman of the Board   \n",
       "22                               Independent Director   \n",
       "23                               Independent Director   \n",
       "24                               Independent Director   \n",
       "25                               Independent Director   \n",
       "26                               Independent Director   \n",
       "27                               Independent Director   \n",
       "28                                           Director   \n",
       "\n",
       "                                            linkedin   \n",
       "0           https://www.linkedin.com/in/patgelsinger/  \n",
       "1                 https://www.twitter.com/@PGelsinger  \n",
       "2   https://www.linkedin.com/in/michellejohnstonho...  \n",
       "3     https://www.linkedin.com/in/christy-pambianchi/  \n",
       "4   https://www.linkedin.com/in/sandra-rivera-6a24...  \n",
       "5   https://www.linkedin.com/in/archie-deskus-985b...  \n",
       "6           https://www.linkedin.com/in/karenmwalker/  \n",
       "7                      https://twitter.com/KarMWalker  \n",
       "8           https://www.linkedin.com/in/greglavender/  \n",
       "9   https://www.linkedin.com/in/navin-shenoy-9b600...  \n",
       "10  https://www.linkedin.com/in/ann-kelleher-6184b89/  \n",
       "11   https://www.linkedin.com/in/raja-koduri-3a51611/  \n",
       "12  https://www.linkedin.com/in/allon-stabinsky-57...  \n",
       "13  https://www.linkedin.com/in/thomas-tom-lantzsc...  \n",
       "14         https://www.linkedin.com/in/amnon-shashua/  \n",
       "15  https://www.linkedin.com/in/dr-randhir-thakur-...  \n",
       "16  https://www.linkedin.com/in/nick-mckeown-4902716/  \n",
       "17  https://www.linkedin.com/in/sunil-shenoy-05ab4b7/  \n",
       "18       https://www.linkedin.com/in/rui-wang-7b4a37/  \n",
       "19  https://www.linkedin.com/in/keyvan-esfarjani-3...  \n",
       "20  https://www.linkedin.com/in/richard-uhlig-6615...  \n",
       "21           https://www.linkedin.com/in/omar-ishrak/  \n",
       "22              https://www.linkedin.com/in/goetzjim/  \n",
       "23                       https://twitter.com/jimgoetz  \n",
       "24  https://www.linkedin.com/in/andrea-goldsmith-0...  \n",
       "25  https://www.linkedin.com/in/alyssa-henry-0905692/  \n",
       "26           https://www.linkedin.com/in/risalavizzo/  \n",
       "27  https://www.linkedin.com/in/dion-weisler-4355183/  \n",
       "28                https://www.linkedin.com/in/198505/  "
      ]
     },
     "execution_count": 8,
     "metadata": {},
     "output_type": "execute_result"
    }
   ],
   "source": [
    "#read .csv file\n",
    "contacts_intel = pd.read_csv(\"data/company_contacts/intel.csv\")\n",
    "contacts_intel"
   ]
  },
  {
   "cell_type": "markdown",
   "id": "6f667809-3985-4065-9fc1-61585d2157c0",
   "metadata": {
    "tags": []
   },
   "source": [
    "#### and last but not least \n",
    "\n",
    "**company_compare.get_stats()**\n",
    "\n",
    "this method is very powerful it gives you the ability to get `financial metrics` and `statistics` about the company you are looking for.\n",
    "\n",
    "for an example with take `deepmind` a company I am looking forward to join."
   ]
  },
  {
   "cell_type": "code",
   "execution_count": 9,
   "id": "0f01ccc6-fb95-4695-9c77-89fa7a407a93",
   "metadata": {},
   "outputs": [
    {
     "name": "stdout",
     "output_type": "stream",
     "text": [
      "saved stats in data/company_stats/deepmind_0.csv\n"
     ]
    }
   ],
   "source": [
    "#example\n",
    "get_stats(\"deepmind\")"
   ]
  },
  {
   "cell_type": "code",
   "execution_count": 10,
   "id": "09a53e0a-6eec-4483-a4ef-9cd68b1553d9",
   "metadata": {},
   "outputs": [],
   "source": [
    "#read .csv file\n",
    "deepmind_stats_1 = pd.read_csv('data/company_stats/deepmind_1.csv')\n",
    "deepmind_stats_2 = pd.read_csv('data/company_stats/deepmind_2.csv')"
   ]
  },
  {
   "cell_type": "code",
   "execution_count": 11,
   "id": "e3022373-edb9-4186-a685-37a0d09a8320",
   "metadata": {},
   "outputs": [
    {
     "data": {
      "text/html": [
       "<div>\n",
       "<style scoped>\n",
       "    .dataframe tbody tr th:only-of-type {\n",
       "        vertical-align: middle;\n",
       "    }\n",
       "\n",
       "    .dataframe tbody tr th {\n",
       "        vertical-align: top;\n",
       "    }\n",
       "\n",
       "    .dataframe thead th {\n",
       "        text-align: right;\n",
       "    }\n",
       "</style>\n",
       "<table border=\"1\" class=\"dataframe\">\n",
       "  <thead>\n",
       "    <tr style=\"text-align: right;\">\n",
       "      <th></th>\n",
       "      <th>GBP</th>\n",
       "      <th>FY, 2016</th>\n",
       "      <th>FY, 2017</th>\n",
       "      <th>FY, 2018</th>\n",
       "    </tr>\n",
       "  </thead>\n",
       "  <tbody>\n",
       "    <tr>\n",
       "      <th>0</th>\n",
       "      <td>Revenue</td>\n",
       "      <td>40.3m</td>\n",
       "      <td>54.4m</td>\n",
       "      <td>102.8m</td>\n",
       "    </tr>\n",
       "    <tr>\n",
       "      <th>1</th>\n",
       "      <td>Revenue growth, %</td>\n",
       "      <td>NaN</td>\n",
       "      <td>35%</td>\n",
       "      <td>89%</td>\n",
       "    </tr>\n",
       "    <tr>\n",
       "      <th>2</th>\n",
       "      <td>General and administrative expense</td>\n",
       "      <td>163.8m</td>\n",
       "      <td>333.9m</td>\n",
       "      <td>465.5m</td>\n",
       "    </tr>\n",
       "    <tr>\n",
       "      <th>3</th>\n",
       "      <td>Operating expense total</td>\n",
       "      <td>163.8m</td>\n",
       "      <td>333.9m</td>\n",
       "      <td>465.5m</td>\n",
       "    </tr>\n",
       "    <tr>\n",
       "      <th>4</th>\n",
       "      <td>Depreciation and amortization</td>\n",
       "      <td>863.5k</td>\n",
       "      <td>1.9m</td>\n",
       "      <td>810.0k</td>\n",
       "    </tr>\n",
       "    <tr>\n",
       "      <th>5</th>\n",
       "      <td>EBIT</td>\n",
       "      <td>(123.5m)</td>\n",
       "      <td>(279.4m)</td>\n",
       "      <td>(465.5k)</td>\n",
       "    </tr>\n",
       "    <tr>\n",
       "      <th>6</th>\n",
       "      <td>EBIT margin, %</td>\n",
       "      <td>(307%)</td>\n",
       "      <td>(513%)</td>\n",
       "      <td>0%</td>\n",
       "    </tr>\n",
       "    <tr>\n",
       "      <th>7</th>\n",
       "      <td>Interest expense</td>\n",
       "      <td>2.0m</td>\n",
       "      <td>2.6m</td>\n",
       "      <td>6.8m</td>\n",
       "    </tr>\n",
       "    <tr>\n",
       "      <th>8</th>\n",
       "      <td>Interest income</td>\n",
       "      <td>NaN</td>\n",
       "      <td>NaN</td>\n",
       "      <td>2.1m</td>\n",
       "    </tr>\n",
       "    <tr>\n",
       "      <th>9</th>\n",
       "      <td>Pre tax profit</td>\n",
       "      <td>(126.6m)</td>\n",
       "      <td>(281.9m)</td>\n",
       "      <td>(470.2m)</td>\n",
       "    </tr>\n",
       "    <tr>\n",
       "      <th>10</th>\n",
       "      <td>Income tax expense</td>\n",
       "      <td>32.6m</td>\n",
       "      <td>(20.3m)</td>\n",
       "      <td>NaN</td>\n",
       "    </tr>\n",
       "    <tr>\n",
       "      <th>11</th>\n",
       "      <td>Net Income</td>\n",
       "      <td>(93.9m)</td>\n",
       "      <td>(302.2m)</td>\n",
       "      <td>(470.2m)</td>\n",
       "    </tr>\n",
       "  </tbody>\n",
       "</table>\n",
       "</div>"
      ],
      "text/plain": [
       "                                   GBP  FY, 2016  FY, 2017  FY, 2018\n",
       "0                              Revenue     40.3m     54.4m    102.8m\n",
       "1                    Revenue growth, %       NaN       35%       89%\n",
       "2   General and administrative expense    163.8m    333.9m    465.5m\n",
       "3              Operating expense total    163.8m    333.9m    465.5m\n",
       "4        Depreciation and amortization    863.5k      1.9m    810.0k\n",
       "5                                 EBIT  (123.5m)  (279.4m)  (465.5k)\n",
       "6                       EBIT margin, %    (307%)    (513%)        0%\n",
       "7                     Interest expense      2.0m      2.6m      6.8m\n",
       "8                      Interest income       NaN       NaN      2.1m\n",
       "9                       Pre tax profit  (126.6m)  (281.9m)  (470.2m)\n",
       "10                  Income tax expense     32.6m   (20.3m)       NaN\n",
       "11                          Net Income   (93.9m)  (302.2m)  (470.2m)"
      ]
     },
     "execution_count": 11,
     "metadata": {},
     "output_type": "execute_result"
    }
   ],
   "source": [
    "deepmind_stats_1.drop(columns=[\"Unnamed: 0\"])"
   ]
  },
  {
   "cell_type": "code",
   "execution_count": 141,
   "id": "0ddea097-ab97-4273-b14e-b96f0bbefdff",
   "metadata": {},
   "outputs": [
    {
     "data": {
      "text/html": [
       "<div>\n",
       "<style scoped>\n",
       "    .dataframe tbody tr th:only-of-type {\n",
       "        vertical-align: middle;\n",
       "    }\n",
       "\n",
       "    .dataframe tbody tr th {\n",
       "        vertical-align: top;\n",
       "    }\n",
       "\n",
       "    .dataframe thead th {\n",
       "        text-align: right;\n",
       "    }\n",
       "</style>\n",
       "<table border=\"1\" class=\"dataframe\">\n",
       "  <thead>\n",
       "    <tr style=\"text-align: right;\">\n",
       "      <th></th>\n",
       "      <th>GBP</th>\n",
       "      <th>FY, 2014</th>\n",
       "      <th>FY, 2015</th>\n",
       "      <th>FY, 2016</th>\n",
       "      <th>FY, 2017</th>\n",
       "      <th>FY, 2018</th>\n",
       "    </tr>\n",
       "  </thead>\n",
       "  <tbody>\n",
       "    <tr>\n",
       "      <th>0</th>\n",
       "      <td>Cash</td>\n",
       "      <td>95.4m</td>\n",
       "      <td>17.6m</td>\n",
       "      <td>13.7m</td>\n",
       "      <td>975.3k</td>\n",
       "      <td>6.8m</td>\n",
       "    </tr>\n",
       "    <tr>\n",
       "      <th>1</th>\n",
       "      <td>Accounts Receivable</td>\n",
       "      <td>NaN</td>\n",
       "      <td>NaN</td>\n",
       "      <td>NaN</td>\n",
       "      <td>NaN</td>\n",
       "      <td>NaN</td>\n",
       "    </tr>\n",
       "    <tr>\n",
       "      <th>2</th>\n",
       "      <td>Inventories</td>\n",
       "      <td>NaN</td>\n",
       "      <td>NaN</td>\n",
       "      <td>NaN</td>\n",
       "      <td>NaN</td>\n",
       "      <td>NaN</td>\n",
       "    </tr>\n",
       "    <tr>\n",
       "      <th>3</th>\n",
       "      <td>Current Assets</td>\n",
       "      <td>95.5m</td>\n",
       "      <td>41.3m</td>\n",
       "      <td>65.2m</td>\n",
       "      <td>100.1m</td>\n",
       "      <td>115.5m</td>\n",
       "    </tr>\n",
       "    <tr>\n",
       "      <th>4</th>\n",
       "      <td>PP&amp;E</td>\n",
       "      <td>NaN</td>\n",
       "      <td>NaN</td>\n",
       "      <td>465.4k</td>\n",
       "      <td>1.1m</td>\n",
       "      <td>885.0k</td>\n",
       "    </tr>\n",
       "    <tr>\n",
       "      <th>5</th>\n",
       "      <td>Total Assets</td>\n",
       "      <td>95.5m</td>\n",
       "      <td>41.3m</td>\n",
       "      <td>66.4m</td>\n",
       "      <td>103.2m</td>\n",
       "      <td>118.3k</td>\n",
       "    </tr>\n",
       "    <tr>\n",
       "      <th>6</th>\n",
       "      <td>Accounts Payable</td>\n",
       "      <td>10.7k</td>\n",
       "      <td>NaN</td>\n",
       "      <td>722.6k</td>\n",
       "      <td>1.4m</td>\n",
       "      <td>4.4m</td>\n",
       "    </tr>\n",
       "    <tr>\n",
       "      <th>7</th>\n",
       "      <td>Short-term debt</td>\n",
       "      <td>100.7m</td>\n",
       "      <td>101.2m</td>\n",
       "      <td>NaN</td>\n",
       "      <td>NaN</td>\n",
       "      <td>883.0m</td>\n",
       "    </tr>\n",
       "    <tr>\n",
       "      <th>8</th>\n",
       "      <td>Current Liabilities</td>\n",
       "      <td>101.0m</td>\n",
       "      <td>101.2m</td>\n",
       "      <td>(79.0m)</td>\n",
       "      <td>(123.9m)</td>\n",
       "      <td>1.0b</td>\n",
       "    </tr>\n",
       "    <tr>\n",
       "      <th>9</th>\n",
       "      <td>Long-term debt</td>\n",
       "      <td>NaN</td>\n",
       "      <td>NaN</td>\n",
       "      <td>141.3m</td>\n",
       "      <td>433.1m</td>\n",
       "      <td>NaN</td>\n",
       "    </tr>\n",
       "    <tr>\n",
       "      <th>10</th>\n",
       "      <td>Non-Current Liabilities</td>\n",
       "      <td>NaN</td>\n",
       "      <td>NaN</td>\n",
       "      <td>(141.3m)</td>\n",
       "      <td>(435.3m)</td>\n",
       "      <td>1.6m</td>\n",
       "    </tr>\n",
       "    <tr>\n",
       "      <th>11</th>\n",
       "      <td>Total Debt</td>\n",
       "      <td>100.7m</td>\n",
       "      <td>101.2m</td>\n",
       "      <td>141.3m</td>\n",
       "      <td>433.1m</td>\n",
       "      <td>883.0m</td>\n",
       "    </tr>\n",
       "    <tr>\n",
       "      <th>12</th>\n",
       "      <td>Total Liabilities</td>\n",
       "      <td>101.0m</td>\n",
       "      <td>101.2m</td>\n",
       "      <td>(153.8m)</td>\n",
       "      <td>(456.1m)</td>\n",
       "      <td>1.0b</td>\n",
       "    </tr>\n",
       "    <tr>\n",
       "      <th>13</th>\n",
       "      <td>Common Stock</td>\n",
       "      <td>1.6k</td>\n",
       "      <td>1.6k</td>\n",
       "      <td>1.6k</td>\n",
       "      <td>1.6k</td>\n",
       "      <td>2.0k</td>\n",
       "    </tr>\n",
       "    <tr>\n",
       "      <th>14</th>\n",
       "      <td>Additional Paid-in Capital</td>\n",
       "      <td>NaN</td>\n",
       "      <td>NaN</td>\n",
       "      <td>41.5m</td>\n",
       "      <td>41.5m</td>\n",
       "      <td>41.5m</td>\n",
       "    </tr>\n",
       "    <tr>\n",
       "      <th>15</th>\n",
       "      <td>Retained Earnings</td>\n",
       "      <td>(47.0m)</td>\n",
       "      <td>(101.4m)</td>\n",
       "      <td>(153.8m)</td>\n",
       "      <td>(497.5m)</td>\n",
       "      <td>(967.7m)</td>\n",
       "    </tr>\n",
       "    <tr>\n",
       "      <th>16</th>\n",
       "      <td>Total Equity</td>\n",
       "      <td>(5.5m)</td>\n",
       "      <td>(59.9m)</td>\n",
       "      <td>(153.8m)</td>\n",
       "      <td>(456.1m)</td>\n",
       "      <td>(926.2m)</td>\n",
       "    </tr>\n",
       "    <tr>\n",
       "      <th>17</th>\n",
       "      <td>Debt to Equity Ratio</td>\n",
       "      <td>-18.2 x</td>\n",
       "      <td>-1.7 x</td>\n",
       "      <td>NaN</td>\n",
       "      <td>-0.9 x</td>\n",
       "      <td>-1 x</td>\n",
       "    </tr>\n",
       "    <tr>\n",
       "      <th>18</th>\n",
       "      <td>Debt to Assets Ratio</td>\n",
       "      <td>1.1 x</td>\n",
       "      <td>2.4 x</td>\n",
       "      <td>NaN</td>\n",
       "      <td>4.2 x</td>\n",
       "      <td>7.5 k x</td>\n",
       "    </tr>\n",
       "    <tr>\n",
       "      <th>19</th>\n",
       "      <td>Financial Leverage</td>\n",
       "      <td>-17.3 x</td>\n",
       "      <td>-0.7 x</td>\n",
       "      <td>-0.4 x</td>\n",
       "      <td>-0.2 x</td>\n",
       "      <td>0 x</td>\n",
       "    </tr>\n",
       "  </tbody>\n",
       "</table>\n",
       "</div>"
      ],
      "text/plain": [
       "                           GBP FY, 2014  FY, 2015  FY, 2016  FY, 2017  \\\n",
       "0                         Cash    95.4m     17.6m     13.7m    975.3k   \n",
       "1          Accounts Receivable      NaN       NaN       NaN       NaN   \n",
       "2                  Inventories      NaN       NaN       NaN       NaN   \n",
       "3               Current Assets    95.5m     41.3m     65.2m    100.1m   \n",
       "4                         PP&E      NaN       NaN    465.4k      1.1m   \n",
       "5                 Total Assets    95.5m     41.3m     66.4m    103.2m   \n",
       "6             Accounts Payable    10.7k       NaN    722.6k      1.4m   \n",
       "7              Short-term debt   100.7m    101.2m       NaN       NaN   \n",
       "8          Current Liabilities   101.0m    101.2m   (79.0m)  (123.9m)   \n",
       "9               Long-term debt      NaN       NaN    141.3m    433.1m   \n",
       "10     Non-Current Liabilities      NaN       NaN  (141.3m)  (435.3m)   \n",
       "11                  Total Debt   100.7m    101.2m    141.3m    433.1m   \n",
       "12           Total Liabilities   101.0m    101.2m  (153.8m)  (456.1m)   \n",
       "13                Common Stock     1.6k      1.6k      1.6k      1.6k   \n",
       "14  Additional Paid-in Capital      NaN       NaN     41.5m     41.5m   \n",
       "15           Retained Earnings  (47.0m)  (101.4m)  (153.8m)  (497.5m)   \n",
       "16                Total Equity   (5.5m)   (59.9m)  (153.8m)  (456.1m)   \n",
       "17        Debt to Equity Ratio  -18.2 x    -1.7 x       NaN    -0.9 x   \n",
       "18        Debt to Assets Ratio    1.1 x     2.4 x       NaN     4.2 x   \n",
       "19          Financial Leverage  -17.3 x    -0.7 x    -0.4 x    -0.2 x   \n",
       "\n",
       "    FY, 2018  \n",
       "0       6.8m  \n",
       "1        NaN  \n",
       "2        NaN  \n",
       "3     115.5m  \n",
       "4     885.0k  \n",
       "5     118.3k  \n",
       "6       4.4m  \n",
       "7     883.0m  \n",
       "8       1.0b  \n",
       "9        NaN  \n",
       "10      1.6m  \n",
       "11    883.0m  \n",
       "12      1.0b  \n",
       "13      2.0k  \n",
       "14     41.5m  \n",
       "15  (967.7m)  \n",
       "16  (926.2m)  \n",
       "17      -1 x  \n",
       "18   7.5 k x  \n",
       "19       0 x  "
      ]
     },
     "execution_count": 141,
     "metadata": {},
     "output_type": "execute_result"
    }
   ],
   "source": [
    "deepmind_stats_2.drop(columns=[\"Unnamed: 0\"])"
   ]
  },
  {
   "cell_type": "markdown",
   "id": "5bd3ae21-0590-47ae-b7f5-127b327274c4",
   "metadata": {
    "tags": []
   },
   "source": [
    "## module 2 : Dashboard"
   ]
  },
  {
   "cell_type": "markdown",
   "id": "71f0f267-924c-4707-8212-867647f10358",
   "metadata": {},
   "source": [
    "I will try and show a usecase for our tool, lets say I want to compare between company A and B.\n",
    "\n",
    "<h1 style=\"text-align: center;\">nvidia <img src=\"https://www.onlygfx.com/wp-content/uploads/2020/07/comic-vs-versus-1.png\" width=\"70 px\"> intel </h1>\n"
   ]
  },
  {
   "cell_type": "markdown",
   "id": "c2ca1936-886a-4b37-b04d-5094f2844cbc",
   "metadata": {
    "tags": []
   },
   "source": [
    "### "
   ]
  },
  {
   "cell_type": "code",
   "execution_count": 11,
   "id": "cc1c8104-5609-48ae-8103-43dd22402bd0",
   "metadata": {},
   "outputs": [
    {
     "name": "stdout",
     "output_type": "stream",
     "text": [
      "saved stats in data/company_stats/nvidia_0.csv\n",
      "saved contacts in data/company_contacts/nvidia.csv\n",
      "saved stats in data/company_stats/intel_0.csv\n",
      "saved contacts in data/company_contacts/nvidia.csv\n"
     ]
    }
   ],
   "source": [
    "get_stats(\"nvidia\")\n",
    "get_contacts(\"nvidia\")\n",
    "\n",
    "get_stats(\"intel\")\n",
    "get_contacts(\"nvidia\")\n",
    "\n",
    "intel = pd.read_csv(\"data/company_stats/intel_0.csv\").drop(columns=[\"Unnamed: 0\"])\n",
    "intel_contacts = pd.read_csv(\"data/company_contacts/intel.csv\")\n",
    "\n",
    "nvidia = pd.read_csv(\"data/company_stats/nvidia_0.csv\").drop(columns=[\"Unnamed: 0\"])\n",
    "nvidia_contacts = pd.read_csv(\"data/company_contacts/nvidia.csv\")\n",
    "\n",
    "intel = intel.set_index(intel[\"USD\"]).drop(columns=[\"USD\"])\n",
    "nvidia = nvidia.set_index(nvidia[\"USD\"]).drop(columns=[\"USD\"])\n",
    "\n",
    "nvidia_RD = list(nvidia.loc[\"R&D expense\"])\n",
    "nvidia_net = list(nvidia.loc[\"Net Income\"])\n",
    "nvidia_years = list(nvidia.columns)\n",
    "\n",
    "intel_RD = list(intel.loc[\"R&D expense\"])\n",
    "intel_net = list(intel.loc[\"Net Income\"])\n",
    "intel_years = list(intel.columns)\n",
    "\n",
    "nvidia_RD = list(map(lambda x: float(x.replace(\"b\",\"\")),nvidia_RD))\n",
    "nvidia_net = list(map(lambda x: float(x.replace(\"b\",\"\")),nvidia_net))\n",
    "intel_net = list(map(lambda x: float(x.replace(\"b\",\"\")),intel_net))\n",
    "intel_RD = list(map(lambda x: float(x.replace(\"b\",\"\")),intel_RD))\n",
    "\n",
    "intel_years = list(map(lambda x: float(x[-4:]),intel_years))\n",
    "intel_years.append(2022)\n",
    "\n",
    "nvidia_RD.insert(0,np.nan)\n",
    "nvidia_net.insert(0,np.nan)\n",
    "\n",
    "intel_RD.append(np.nan)\n",
    "intel_net.append(np.nan)"
   ]
  },
  {
   "cell_type": "code",
   "execution_count": 11,
   "id": "74885ffe-a68a-49e5-ad71-ad88c1a759e9",
   "metadata": {
    "tags": []
   },
   "outputs": [
    {
     "data": {
      "application/vnd.plotly.v1+json": {
       "config": {
        "plotlyServerURL": "https://plot.ly"
       },
       "data": [
        {
         "hovertemplate": "company=wide_variable_0<br>year=%{x}<br>Billions $=%{y}<extra></extra>",
         "legendgroup": "wide_variable_0",
         "line": {
          "color": "#636efa",
          "dash": "solid"
         },
         "marker": {
          "symbol": "circle"
         },
         "mode": "lines",
         "name": "wide_variable_0",
         "orientation": "v",
         "showlegend": true,
         "type": "scatter",
         "x": [
          2019,
          2020,
          2021,
          2022
         ],
         "xaxis": "x",
         "y": [
          null,
          2.8,
          3.9,
          5.3
         ],
         "yaxis": "y"
        },
        {
         "hovertemplate": "company=wide_variable_1<br>year=%{x}<br>Billions $=%{y}<extra></extra>",
         "legendgroup": "wide_variable_1",
         "line": {
          "color": "#EF553B",
          "dash": "solid"
         },
         "marker": {
          "symbol": "circle"
         },
         "mode": "lines",
         "name": "wide_variable_1",
         "orientation": "v",
         "showlegend": true,
         "type": "scatter",
         "x": [
          2019,
          2020,
          2021,
          2022
         ],
         "xaxis": "x",
         "y": [
          13.4,
          13.6,
          15.2,
          null
         ],
         "yaxis": "y"
        }
       ],
       "layout": {
        "legend": {
         "title": {
          "text": "company"
         },
         "tracegroupgap": 0
        },
        "template": {
         "data": {
          "bar": [
           {
            "error_x": {
             "color": "#2a3f5f"
            },
            "error_y": {
             "color": "#2a3f5f"
            },
            "marker": {
             "line": {
              "color": "#E5ECF6",
              "width": 0.5
             },
             "pattern": {
              "fillmode": "overlay",
              "size": 10,
              "solidity": 0.2
             }
            },
            "type": "bar"
           }
          ],
          "barpolar": [
           {
            "marker": {
             "line": {
              "color": "#E5ECF6",
              "width": 0.5
             },
             "pattern": {
              "fillmode": "overlay",
              "size": 10,
              "solidity": 0.2
             }
            },
            "type": "barpolar"
           }
          ],
          "carpet": [
           {
            "aaxis": {
             "endlinecolor": "#2a3f5f",
             "gridcolor": "white",
             "linecolor": "white",
             "minorgridcolor": "white",
             "startlinecolor": "#2a3f5f"
            },
            "baxis": {
             "endlinecolor": "#2a3f5f",
             "gridcolor": "white",
             "linecolor": "white",
             "minorgridcolor": "white",
             "startlinecolor": "#2a3f5f"
            },
            "type": "carpet"
           }
          ],
          "choropleth": [
           {
            "colorbar": {
             "outlinewidth": 0,
             "ticks": ""
            },
            "type": "choropleth"
           }
          ],
          "contour": [
           {
            "colorbar": {
             "outlinewidth": 0,
             "ticks": ""
            },
            "colorscale": [
             [
              0,
              "#0d0887"
             ],
             [
              0.1111111111111111,
              "#46039f"
             ],
             [
              0.2222222222222222,
              "#7201a8"
             ],
             [
              0.3333333333333333,
              "#9c179e"
             ],
             [
              0.4444444444444444,
              "#bd3786"
             ],
             [
              0.5555555555555556,
              "#d8576b"
             ],
             [
              0.6666666666666666,
              "#ed7953"
             ],
             [
              0.7777777777777778,
              "#fb9f3a"
             ],
             [
              0.8888888888888888,
              "#fdca26"
             ],
             [
              1,
              "#f0f921"
             ]
            ],
            "type": "contour"
           }
          ],
          "contourcarpet": [
           {
            "colorbar": {
             "outlinewidth": 0,
             "ticks": ""
            },
            "type": "contourcarpet"
           }
          ],
          "heatmap": [
           {
            "colorbar": {
             "outlinewidth": 0,
             "ticks": ""
            },
            "colorscale": [
             [
              0,
              "#0d0887"
             ],
             [
              0.1111111111111111,
              "#46039f"
             ],
             [
              0.2222222222222222,
              "#7201a8"
             ],
             [
              0.3333333333333333,
              "#9c179e"
             ],
             [
              0.4444444444444444,
              "#bd3786"
             ],
             [
              0.5555555555555556,
              "#d8576b"
             ],
             [
              0.6666666666666666,
              "#ed7953"
             ],
             [
              0.7777777777777778,
              "#fb9f3a"
             ],
             [
              0.8888888888888888,
              "#fdca26"
             ],
             [
              1,
              "#f0f921"
             ]
            ],
            "type": "heatmap"
           }
          ],
          "heatmapgl": [
           {
            "colorbar": {
             "outlinewidth": 0,
             "ticks": ""
            },
            "colorscale": [
             [
              0,
              "#0d0887"
             ],
             [
              0.1111111111111111,
              "#46039f"
             ],
             [
              0.2222222222222222,
              "#7201a8"
             ],
             [
              0.3333333333333333,
              "#9c179e"
             ],
             [
              0.4444444444444444,
              "#bd3786"
             ],
             [
              0.5555555555555556,
              "#d8576b"
             ],
             [
              0.6666666666666666,
              "#ed7953"
             ],
             [
              0.7777777777777778,
              "#fb9f3a"
             ],
             [
              0.8888888888888888,
              "#fdca26"
             ],
             [
              1,
              "#f0f921"
             ]
            ],
            "type": "heatmapgl"
           }
          ],
          "histogram": [
           {
            "marker": {
             "pattern": {
              "fillmode": "overlay",
              "size": 10,
              "solidity": 0.2
             }
            },
            "type": "histogram"
           }
          ],
          "histogram2d": [
           {
            "colorbar": {
             "outlinewidth": 0,
             "ticks": ""
            },
            "colorscale": [
             [
              0,
              "#0d0887"
             ],
             [
              0.1111111111111111,
              "#46039f"
             ],
             [
              0.2222222222222222,
              "#7201a8"
             ],
             [
              0.3333333333333333,
              "#9c179e"
             ],
             [
              0.4444444444444444,
              "#bd3786"
             ],
             [
              0.5555555555555556,
              "#d8576b"
             ],
             [
              0.6666666666666666,
              "#ed7953"
             ],
             [
              0.7777777777777778,
              "#fb9f3a"
             ],
             [
              0.8888888888888888,
              "#fdca26"
             ],
             [
              1,
              "#f0f921"
             ]
            ],
            "type": "histogram2d"
           }
          ],
          "histogram2dcontour": [
           {
            "colorbar": {
             "outlinewidth": 0,
             "ticks": ""
            },
            "colorscale": [
             [
              0,
              "#0d0887"
             ],
             [
              0.1111111111111111,
              "#46039f"
             ],
             [
              0.2222222222222222,
              "#7201a8"
             ],
             [
              0.3333333333333333,
              "#9c179e"
             ],
             [
              0.4444444444444444,
              "#bd3786"
             ],
             [
              0.5555555555555556,
              "#d8576b"
             ],
             [
              0.6666666666666666,
              "#ed7953"
             ],
             [
              0.7777777777777778,
              "#fb9f3a"
             ],
             [
              0.8888888888888888,
              "#fdca26"
             ],
             [
              1,
              "#f0f921"
             ]
            ],
            "type": "histogram2dcontour"
           }
          ],
          "mesh3d": [
           {
            "colorbar": {
             "outlinewidth": 0,
             "ticks": ""
            },
            "type": "mesh3d"
           }
          ],
          "parcoords": [
           {
            "line": {
             "colorbar": {
              "outlinewidth": 0,
              "ticks": ""
             }
            },
            "type": "parcoords"
           }
          ],
          "pie": [
           {
            "automargin": true,
            "type": "pie"
           }
          ],
          "scatter": [
           {
            "marker": {
             "colorbar": {
              "outlinewidth": 0,
              "ticks": ""
             }
            },
            "type": "scatter"
           }
          ],
          "scatter3d": [
           {
            "line": {
             "colorbar": {
              "outlinewidth": 0,
              "ticks": ""
             }
            },
            "marker": {
             "colorbar": {
              "outlinewidth": 0,
              "ticks": ""
             }
            },
            "type": "scatter3d"
           }
          ],
          "scattercarpet": [
           {
            "marker": {
             "colorbar": {
              "outlinewidth": 0,
              "ticks": ""
             }
            },
            "type": "scattercarpet"
           }
          ],
          "scattergeo": [
           {
            "marker": {
             "colorbar": {
              "outlinewidth": 0,
              "ticks": ""
             }
            },
            "type": "scattergeo"
           }
          ],
          "scattergl": [
           {
            "marker": {
             "colorbar": {
              "outlinewidth": 0,
              "ticks": ""
             }
            },
            "type": "scattergl"
           }
          ],
          "scattermapbox": [
           {
            "marker": {
             "colorbar": {
              "outlinewidth": 0,
              "ticks": ""
             }
            },
            "type": "scattermapbox"
           }
          ],
          "scatterpolar": [
           {
            "marker": {
             "colorbar": {
              "outlinewidth": 0,
              "ticks": ""
             }
            },
            "type": "scatterpolar"
           }
          ],
          "scatterpolargl": [
           {
            "marker": {
             "colorbar": {
              "outlinewidth": 0,
              "ticks": ""
             }
            },
            "type": "scatterpolargl"
           }
          ],
          "scatterternary": [
           {
            "marker": {
             "colorbar": {
              "outlinewidth": 0,
              "ticks": ""
             }
            },
            "type": "scatterternary"
           }
          ],
          "surface": [
           {
            "colorbar": {
             "outlinewidth": 0,
             "ticks": ""
            },
            "colorscale": [
             [
              0,
              "#0d0887"
             ],
             [
              0.1111111111111111,
              "#46039f"
             ],
             [
              0.2222222222222222,
              "#7201a8"
             ],
             [
              0.3333333333333333,
              "#9c179e"
             ],
             [
              0.4444444444444444,
              "#bd3786"
             ],
             [
              0.5555555555555556,
              "#d8576b"
             ],
             [
              0.6666666666666666,
              "#ed7953"
             ],
             [
              0.7777777777777778,
              "#fb9f3a"
             ],
             [
              0.8888888888888888,
              "#fdca26"
             ],
             [
              1,
              "#f0f921"
             ]
            ],
            "type": "surface"
           }
          ],
          "table": [
           {
            "cells": {
             "fill": {
              "color": "#EBF0F8"
             },
             "line": {
              "color": "white"
             }
            },
            "header": {
             "fill": {
              "color": "#C8D4E3"
             },
             "line": {
              "color": "white"
             }
            },
            "type": "table"
           }
          ]
         },
         "layout": {
          "annotationdefaults": {
           "arrowcolor": "#2a3f5f",
           "arrowhead": 0,
           "arrowwidth": 1
          },
          "autotypenumbers": "strict",
          "coloraxis": {
           "colorbar": {
            "outlinewidth": 0,
            "ticks": ""
           }
          },
          "colorscale": {
           "diverging": [
            [
             0,
             "#8e0152"
            ],
            [
             0.1,
             "#c51b7d"
            ],
            [
             0.2,
             "#de77ae"
            ],
            [
             0.3,
             "#f1b6da"
            ],
            [
             0.4,
             "#fde0ef"
            ],
            [
             0.5,
             "#f7f7f7"
            ],
            [
             0.6,
             "#e6f5d0"
            ],
            [
             0.7,
             "#b8e186"
            ],
            [
             0.8,
             "#7fbc41"
            ],
            [
             0.9,
             "#4d9221"
            ],
            [
             1,
             "#276419"
            ]
           ],
           "sequential": [
            [
             0,
             "#0d0887"
            ],
            [
             0.1111111111111111,
             "#46039f"
            ],
            [
             0.2222222222222222,
             "#7201a8"
            ],
            [
             0.3333333333333333,
             "#9c179e"
            ],
            [
             0.4444444444444444,
             "#bd3786"
            ],
            [
             0.5555555555555556,
             "#d8576b"
            ],
            [
             0.6666666666666666,
             "#ed7953"
            ],
            [
             0.7777777777777778,
             "#fb9f3a"
            ],
            [
             0.8888888888888888,
             "#fdca26"
            ],
            [
             1,
             "#f0f921"
            ]
           ],
           "sequentialminus": [
            [
             0,
             "#0d0887"
            ],
            [
             0.1111111111111111,
             "#46039f"
            ],
            [
             0.2222222222222222,
             "#7201a8"
            ],
            [
             0.3333333333333333,
             "#9c179e"
            ],
            [
             0.4444444444444444,
             "#bd3786"
            ],
            [
             0.5555555555555556,
             "#d8576b"
            ],
            [
             0.6666666666666666,
             "#ed7953"
            ],
            [
             0.7777777777777778,
             "#fb9f3a"
            ],
            [
             0.8888888888888888,
             "#fdca26"
            ],
            [
             1,
             "#f0f921"
            ]
           ]
          },
          "colorway": [
           "#636efa",
           "#EF553B",
           "#00cc96",
           "#ab63fa",
           "#FFA15A",
           "#19d3f3",
           "#FF6692",
           "#B6E880",
           "#FF97FF",
           "#FECB52"
          ],
          "font": {
           "color": "#2a3f5f"
          },
          "geo": {
           "bgcolor": "white",
           "lakecolor": "white",
           "landcolor": "#E5ECF6",
           "showlakes": true,
           "showland": true,
           "subunitcolor": "white"
          },
          "hoverlabel": {
           "align": "left"
          },
          "hovermode": "closest",
          "mapbox": {
           "style": "light"
          },
          "paper_bgcolor": "white",
          "plot_bgcolor": "#E5ECF6",
          "polar": {
           "angularaxis": {
            "gridcolor": "white",
            "linecolor": "white",
            "ticks": ""
           },
           "bgcolor": "#E5ECF6",
           "radialaxis": {
            "gridcolor": "white",
            "linecolor": "white",
            "ticks": ""
           }
          },
          "scene": {
           "xaxis": {
            "backgroundcolor": "#E5ECF6",
            "gridcolor": "white",
            "gridwidth": 2,
            "linecolor": "white",
            "showbackground": true,
            "ticks": "",
            "zerolinecolor": "white"
           },
           "yaxis": {
            "backgroundcolor": "#E5ECF6",
            "gridcolor": "white",
            "gridwidth": 2,
            "linecolor": "white",
            "showbackground": true,
            "ticks": "",
            "zerolinecolor": "white"
           },
           "zaxis": {
            "backgroundcolor": "#E5ECF6",
            "gridcolor": "white",
            "gridwidth": 2,
            "linecolor": "white",
            "showbackground": true,
            "ticks": "",
            "zerolinecolor": "white"
           }
          },
          "shapedefaults": {
           "line": {
            "color": "#2a3f5f"
           }
          },
          "ternary": {
           "aaxis": {
            "gridcolor": "white",
            "linecolor": "white",
            "ticks": ""
           },
           "baxis": {
            "gridcolor": "white",
            "linecolor": "white",
            "ticks": ""
           },
           "bgcolor": "#E5ECF6",
           "caxis": {
            "gridcolor": "white",
            "linecolor": "white",
            "ticks": ""
           }
          },
          "title": {
           "x": 0.05
          },
          "xaxis": {
           "automargin": true,
           "gridcolor": "white",
           "linecolor": "white",
           "ticks": "",
           "title": {
            "standoff": 15
           },
           "zerolinecolor": "white",
           "zerolinewidth": 2
          },
          "yaxis": {
           "automargin": true,
           "gridcolor": "white",
           "linecolor": "white",
           "ticks": "",
           "title": {
            "standoff": 15
           },
           "zerolinecolor": "white",
           "zerolinewidth": 2
          }
         }
        },
        "title": {
         "text": "R&D expenses"
        },
        "xaxis": {
         "anchor": "y",
         "domain": [
          0,
          1
         ],
         "title": {
          "text": "year"
         }
        },
        "yaxis": {
         "anchor": "x",
         "domain": [
          0,
          1
         ],
         "title": {
          "text": "Billions $"
         }
        }
       }
      }
     },
     "metadata": {},
     "output_type": "display_data"
    }
   ],
   "source": [
    "fig = ex.line(x=intel_years,y=[nvidia_RD,intel_RD], labels={\"x\":\"year\",\"value\":\"Billions $\", \"variable\":\"company\"}, title= \"R&D expenses\")\n",
    "fig.show()"
   ]
  },
  {
   "cell_type": "code",
   "execution_count": 143,
   "id": "ee60a258-699c-4bdb-beff-b2296b52ecc4",
   "metadata": {
    "tags": []
   },
   "outputs": [
    {
     "data": {
      "application/vnd.plotly.v1+json": {
       "config": {
        "plotlyServerURL": "https://plot.ly"
       },
       "data": [
        {
         "hovertemplate": "company=wide_variable_0<br>year=%{x}<br>Billions $=%{y}<extra></extra>",
         "legendgroup": "wide_variable_0",
         "line": {
          "color": "#636efa",
          "dash": "solid"
         },
         "marker": {
          "symbol": "circle"
         },
         "mode": "lines",
         "name": "wide_variable_0",
         "orientation": "v",
         "showlegend": true,
         "type": "scatter",
         "x": [
          2019,
          2020,
          2021,
          2022
         ],
         "xaxis": "x",
         "y": [
          null,
          2.8,
          4.3,
          9.8
         ],
         "yaxis": "y"
        },
        {
         "hovertemplate": "company=wide_variable_1<br>year=%{x}<br>Billions $=%{y}<extra></extra>",
         "legendgroup": "wide_variable_1",
         "line": {
          "color": "#EF553B",
          "dash": "solid"
         },
         "marker": {
          "symbol": "circle"
         },
         "mode": "lines",
         "name": "wide_variable_1",
         "orientation": "v",
         "showlegend": true,
         "type": "scatter",
         "x": [
          2019,
          2020,
          2021,
          2022
         ],
         "xaxis": "x",
         "y": [
          21,
          20.9,
          19.9,
          null
         ],
         "yaxis": "y"
        }
       ],
       "layout": {
        "autosize": true,
        "legend": {
         "title": {
          "text": "company"
         },
         "tracegroupgap": 0
        },
        "template": {
         "data": {
          "bar": [
           {
            "error_x": {
             "color": "#2a3f5f"
            },
            "error_y": {
             "color": "#2a3f5f"
            },
            "marker": {
             "line": {
              "color": "#E5ECF6",
              "width": 0.5
             },
             "pattern": {
              "fillmode": "overlay",
              "size": 10,
              "solidity": 0.2
             }
            },
            "type": "bar"
           }
          ],
          "barpolar": [
           {
            "marker": {
             "line": {
              "color": "#E5ECF6",
              "width": 0.5
             },
             "pattern": {
              "fillmode": "overlay",
              "size": 10,
              "solidity": 0.2
             }
            },
            "type": "barpolar"
           }
          ],
          "carpet": [
           {
            "aaxis": {
             "endlinecolor": "#2a3f5f",
             "gridcolor": "white",
             "linecolor": "white",
             "minorgridcolor": "white",
             "startlinecolor": "#2a3f5f"
            },
            "baxis": {
             "endlinecolor": "#2a3f5f",
             "gridcolor": "white",
             "linecolor": "white",
             "minorgridcolor": "white",
             "startlinecolor": "#2a3f5f"
            },
            "type": "carpet"
           }
          ],
          "choropleth": [
           {
            "colorbar": {
             "outlinewidth": 0,
             "ticks": ""
            },
            "type": "choropleth"
           }
          ],
          "contour": [
           {
            "colorbar": {
             "outlinewidth": 0,
             "ticks": ""
            },
            "colorscale": [
             [
              0,
              "#0d0887"
             ],
             [
              0.1111111111111111,
              "#46039f"
             ],
             [
              0.2222222222222222,
              "#7201a8"
             ],
             [
              0.3333333333333333,
              "#9c179e"
             ],
             [
              0.4444444444444444,
              "#bd3786"
             ],
             [
              0.5555555555555556,
              "#d8576b"
             ],
             [
              0.6666666666666666,
              "#ed7953"
             ],
             [
              0.7777777777777778,
              "#fb9f3a"
             ],
             [
              0.8888888888888888,
              "#fdca26"
             ],
             [
              1,
              "#f0f921"
             ]
            ],
            "type": "contour"
           }
          ],
          "contourcarpet": [
           {
            "colorbar": {
             "outlinewidth": 0,
             "ticks": ""
            },
            "type": "contourcarpet"
           }
          ],
          "heatmap": [
           {
            "colorbar": {
             "outlinewidth": 0,
             "ticks": ""
            },
            "colorscale": [
             [
              0,
              "#0d0887"
             ],
             [
              0.1111111111111111,
              "#46039f"
             ],
             [
              0.2222222222222222,
              "#7201a8"
             ],
             [
              0.3333333333333333,
              "#9c179e"
             ],
             [
              0.4444444444444444,
              "#bd3786"
             ],
             [
              0.5555555555555556,
              "#d8576b"
             ],
             [
              0.6666666666666666,
              "#ed7953"
             ],
             [
              0.7777777777777778,
              "#fb9f3a"
             ],
             [
              0.8888888888888888,
              "#fdca26"
             ],
             [
              1,
              "#f0f921"
             ]
            ],
            "type": "heatmap"
           }
          ],
          "heatmapgl": [
           {
            "colorbar": {
             "outlinewidth": 0,
             "ticks": ""
            },
            "colorscale": [
             [
              0,
              "#0d0887"
             ],
             [
              0.1111111111111111,
              "#46039f"
             ],
             [
              0.2222222222222222,
              "#7201a8"
             ],
             [
              0.3333333333333333,
              "#9c179e"
             ],
             [
              0.4444444444444444,
              "#bd3786"
             ],
             [
              0.5555555555555556,
              "#d8576b"
             ],
             [
              0.6666666666666666,
              "#ed7953"
             ],
             [
              0.7777777777777778,
              "#fb9f3a"
             ],
             [
              0.8888888888888888,
              "#fdca26"
             ],
             [
              1,
              "#f0f921"
             ]
            ],
            "type": "heatmapgl"
           }
          ],
          "histogram": [
           {
            "marker": {
             "pattern": {
              "fillmode": "overlay",
              "size": 10,
              "solidity": 0.2
             }
            },
            "type": "histogram"
           }
          ],
          "histogram2d": [
           {
            "colorbar": {
             "outlinewidth": 0,
             "ticks": ""
            },
            "colorscale": [
             [
              0,
              "#0d0887"
             ],
             [
              0.1111111111111111,
              "#46039f"
             ],
             [
              0.2222222222222222,
              "#7201a8"
             ],
             [
              0.3333333333333333,
              "#9c179e"
             ],
             [
              0.4444444444444444,
              "#bd3786"
             ],
             [
              0.5555555555555556,
              "#d8576b"
             ],
             [
              0.6666666666666666,
              "#ed7953"
             ],
             [
              0.7777777777777778,
              "#fb9f3a"
             ],
             [
              0.8888888888888888,
              "#fdca26"
             ],
             [
              1,
              "#f0f921"
             ]
            ],
            "type": "histogram2d"
           }
          ],
          "histogram2dcontour": [
           {
            "colorbar": {
             "outlinewidth": 0,
             "ticks": ""
            },
            "colorscale": [
             [
              0,
              "#0d0887"
             ],
             [
              0.1111111111111111,
              "#46039f"
             ],
             [
              0.2222222222222222,
              "#7201a8"
             ],
             [
              0.3333333333333333,
              "#9c179e"
             ],
             [
              0.4444444444444444,
              "#bd3786"
             ],
             [
              0.5555555555555556,
              "#d8576b"
             ],
             [
              0.6666666666666666,
              "#ed7953"
             ],
             [
              0.7777777777777778,
              "#fb9f3a"
             ],
             [
              0.8888888888888888,
              "#fdca26"
             ],
             [
              1,
              "#f0f921"
             ]
            ],
            "type": "histogram2dcontour"
           }
          ],
          "mesh3d": [
           {
            "colorbar": {
             "outlinewidth": 0,
             "ticks": ""
            },
            "type": "mesh3d"
           }
          ],
          "parcoords": [
           {
            "line": {
             "colorbar": {
              "outlinewidth": 0,
              "ticks": ""
             }
            },
            "type": "parcoords"
           }
          ],
          "pie": [
           {
            "automargin": true,
            "type": "pie"
           }
          ],
          "scatter": [
           {
            "fillpattern": {
             "fillmode": "overlay",
             "size": 10,
             "solidity": 0.2
            },
            "type": "scatter"
           }
          ],
          "scatter3d": [
           {
            "line": {
             "colorbar": {
              "outlinewidth": 0,
              "ticks": ""
             }
            },
            "marker": {
             "colorbar": {
              "outlinewidth": 0,
              "ticks": ""
             }
            },
            "type": "scatter3d"
           }
          ],
          "scattercarpet": [
           {
            "marker": {
             "colorbar": {
              "outlinewidth": 0,
              "ticks": ""
             }
            },
            "type": "scattercarpet"
           }
          ],
          "scattergeo": [
           {
            "marker": {
             "colorbar": {
              "outlinewidth": 0,
              "ticks": ""
             }
            },
            "type": "scattergeo"
           }
          ],
          "scattergl": [
           {
            "marker": {
             "colorbar": {
              "outlinewidth": 0,
              "ticks": ""
             }
            },
            "type": "scattergl"
           }
          ],
          "scattermapbox": [
           {
            "marker": {
             "colorbar": {
              "outlinewidth": 0,
              "ticks": ""
             }
            },
            "type": "scattermapbox"
           }
          ],
          "scatterpolar": [
           {
            "marker": {
             "colorbar": {
              "outlinewidth": 0,
              "ticks": ""
             }
            },
            "type": "scatterpolar"
           }
          ],
          "scatterpolargl": [
           {
            "marker": {
             "colorbar": {
              "outlinewidth": 0,
              "ticks": ""
             }
            },
            "type": "scatterpolargl"
           }
          ],
          "scatterternary": [
           {
            "marker": {
             "colorbar": {
              "outlinewidth": 0,
              "ticks": ""
             }
            },
            "type": "scatterternary"
           }
          ],
          "surface": [
           {
            "colorbar": {
             "outlinewidth": 0,
             "ticks": ""
            },
            "colorscale": [
             [
              0,
              "#0d0887"
             ],
             [
              0.1111111111111111,
              "#46039f"
             ],
             [
              0.2222222222222222,
              "#7201a8"
             ],
             [
              0.3333333333333333,
              "#9c179e"
             ],
             [
              0.4444444444444444,
              "#bd3786"
             ],
             [
              0.5555555555555556,
              "#d8576b"
             ],
             [
              0.6666666666666666,
              "#ed7953"
             ],
             [
              0.7777777777777778,
              "#fb9f3a"
             ],
             [
              0.8888888888888888,
              "#fdca26"
             ],
             [
              1,
              "#f0f921"
             ]
            ],
            "type": "surface"
           }
          ],
          "table": [
           {
            "cells": {
             "fill": {
              "color": "#EBF0F8"
             },
             "line": {
              "color": "white"
             }
            },
            "header": {
             "fill": {
              "color": "#C8D4E3"
             },
             "line": {
              "color": "white"
             }
            },
            "type": "table"
           }
          ]
         },
         "layout": {
          "annotationdefaults": {
           "arrowcolor": "#2a3f5f",
           "arrowhead": 0,
           "arrowwidth": 1
          },
          "autotypenumbers": "strict",
          "coloraxis": {
           "colorbar": {
            "outlinewidth": 0,
            "ticks": ""
           }
          },
          "colorscale": {
           "diverging": [
            [
             0,
             "#8e0152"
            ],
            [
             0.1,
             "#c51b7d"
            ],
            [
             0.2,
             "#de77ae"
            ],
            [
             0.3,
             "#f1b6da"
            ],
            [
             0.4,
             "#fde0ef"
            ],
            [
             0.5,
             "#f7f7f7"
            ],
            [
             0.6,
             "#e6f5d0"
            ],
            [
             0.7,
             "#b8e186"
            ],
            [
             0.8,
             "#7fbc41"
            ],
            [
             0.9,
             "#4d9221"
            ],
            [
             1,
             "#276419"
            ]
           ],
           "sequential": [
            [
             0,
             "#0d0887"
            ],
            [
             0.1111111111111111,
             "#46039f"
            ],
            [
             0.2222222222222222,
             "#7201a8"
            ],
            [
             0.3333333333333333,
             "#9c179e"
            ],
            [
             0.4444444444444444,
             "#bd3786"
            ],
            [
             0.5555555555555556,
             "#d8576b"
            ],
            [
             0.6666666666666666,
             "#ed7953"
            ],
            [
             0.7777777777777778,
             "#fb9f3a"
            ],
            [
             0.8888888888888888,
             "#fdca26"
            ],
            [
             1,
             "#f0f921"
            ]
           ],
           "sequentialminus": [
            [
             0,
             "#0d0887"
            ],
            [
             0.1111111111111111,
             "#46039f"
            ],
            [
             0.2222222222222222,
             "#7201a8"
            ],
            [
             0.3333333333333333,
             "#9c179e"
            ],
            [
             0.4444444444444444,
             "#bd3786"
            ],
            [
             0.5555555555555556,
             "#d8576b"
            ],
            [
             0.6666666666666666,
             "#ed7953"
            ],
            [
             0.7777777777777778,
             "#fb9f3a"
            ],
            [
             0.8888888888888888,
             "#fdca26"
            ],
            [
             1,
             "#f0f921"
            ]
           ]
          },
          "colorway": [
           "#636efa",
           "#EF553B",
           "#00cc96",
           "#ab63fa",
           "#FFA15A",
           "#19d3f3",
           "#FF6692",
           "#B6E880",
           "#FF97FF",
           "#FECB52"
          ],
          "font": {
           "color": "#2a3f5f"
          },
          "geo": {
           "bgcolor": "white",
           "lakecolor": "white",
           "landcolor": "#E5ECF6",
           "showlakes": true,
           "showland": true,
           "subunitcolor": "white"
          },
          "hoverlabel": {
           "align": "left"
          },
          "hovermode": "closest",
          "mapbox": {
           "style": "light"
          },
          "paper_bgcolor": "white",
          "plot_bgcolor": "#E5ECF6",
          "polar": {
           "angularaxis": {
            "gridcolor": "white",
            "linecolor": "white",
            "ticks": ""
           },
           "bgcolor": "#E5ECF6",
           "radialaxis": {
            "gridcolor": "white",
            "linecolor": "white",
            "ticks": ""
           }
          },
          "scene": {
           "xaxis": {
            "backgroundcolor": "#E5ECF6",
            "gridcolor": "white",
            "gridwidth": 2,
            "linecolor": "white",
            "showbackground": true,
            "ticks": "",
            "zerolinecolor": "white"
           },
           "yaxis": {
            "backgroundcolor": "#E5ECF6",
            "gridcolor": "white",
            "gridwidth": 2,
            "linecolor": "white",
            "showbackground": true,
            "ticks": "",
            "zerolinecolor": "white"
           },
           "zaxis": {
            "backgroundcolor": "#E5ECF6",
            "gridcolor": "white",
            "gridwidth": 2,
            "linecolor": "white",
            "showbackground": true,
            "ticks": "",
            "zerolinecolor": "white"
           }
          },
          "shapedefaults": {
           "line": {
            "color": "#2a3f5f"
           }
          },
          "ternary": {
           "aaxis": {
            "gridcolor": "white",
            "linecolor": "white",
            "ticks": ""
           },
           "baxis": {
            "gridcolor": "white",
            "linecolor": "white",
            "ticks": ""
           },
           "bgcolor": "#E5ECF6",
           "caxis": {
            "gridcolor": "white",
            "linecolor": "white",
            "ticks": ""
           }
          },
          "title": {
           "x": 0.05
          },
          "xaxis": {
           "automargin": true,
           "gridcolor": "white",
           "linecolor": "white",
           "ticks": "",
           "title": {
            "standoff": 15
           },
           "zerolinecolor": "white",
           "zerolinewidth": 2
          },
          "yaxis": {
           "automargin": true,
           "gridcolor": "white",
           "linecolor": "white",
           "ticks": "",
           "title": {
            "standoff": 15
           },
           "zerolinecolor": "white",
           "zerolinewidth": 2
          }
         }
        },
        "title": {
         "text": "Net Income"
        },
        "xaxis": {
         "anchor": "y",
         "autorange": true,
         "domain": [
          0,
          1
         ],
         "range": [
          2019,
          2022
         ],
         "title": {
          "text": "year"
         },
         "type": "linear"
        },
        "yaxis": {
         "anchor": "x",
         "autorange": true,
         "domain": [
          0,
          1
         ],
         "range": [
          1.7888888888888888,
          22.011111111111113
         ],
         "title": {
          "text": "Billions $"
         },
         "type": "linear"
        }
       }
      },
      "image/png": "[encoded data removed]",
      "text/html": [
       "<div>                            <div id=\"c06e45ee-1110-4b5f-b2ae-8bd89b67376d\" class=\"plotly-graph-div\" style=\"height:525px; width:100%;\"></div>            <script type=\"text/javascript\">                require([\"plotly\"], function(Plotly) {                    window.PLOTLYENV=window.PLOTLYENV || {};                                    if (document.getElementById(\"c06e45ee-1110-4b5f-b2ae-8bd89b67376d\")) {                    Plotly.newPlot(                        \"c06e45ee-1110-4b5f-b2ae-8bd89b67376d\",                        [{\"hovertemplate\":\"company=wide_variable_0<br>year=%{x}<br>Billions $=%{y}<extra></extra>\",\"legendgroup\":\"wide_variable_0\",\"line\":{\"color\":\"#636efa\",\"dash\":\"solid\"},\"marker\":{\"symbol\":\"circle\"},\"mode\":\"lines\",\"name\":\"wide_variable_0\",\"orientation\":\"v\",\"showlegend\":true,\"x\":[2019.0,2020.0,2021.0,2022.0],\"xaxis\":\"x\",\"y\":[null,2.8,4.3,9.8],\"yaxis\":\"y\",\"type\":\"scatter\"},{\"hovertemplate\":\"company=wide_variable_1<br>year=%{x}<br>Billions $=%{y}<extra></extra>\",\"legendgroup\":\"wide_variable_1\",\"line\":{\"color\":\"#EF553B\",\"dash\":\"solid\"},\"marker\":{\"symbol\":\"circle\"},\"mode\":\"lines\",\"name\":\"wide_variable_1\",\"orientation\":\"v\",\"showlegend\":true,\"x\":[2019.0,2020.0,2021.0,2022.0],\"xaxis\":\"x\",\"y\":[21.0,20.9,19.9,null],\"yaxis\":\"y\",\"type\":\"scatter\"}],                        {\"template\":{\"data\":{\"histogram2dcontour\":[{\"type\":\"histogram2dcontour\",\"colorbar\":{\"outlinewidth\":0,\"ticks\":\"\"},\"colorscale\":[[0.0,\"#0d0887\"],[0.1111111111111111,\"#46039f\"],[0.2222222222222222,\"#7201a8\"],[0.3333333333333333,\"#9c179e\"],[0.4444444444444444,\"#bd3786\"],[0.5555555555555556,\"#d8576b\"],[0.6666666666666666,\"#ed7953\"],[0.7777777777777778,\"#fb9f3a\"],[0.8888888888888888,\"#fdca26\"],[1.0,\"#f0f921\"]]}],\"choropleth\":[{\"type\":\"choropleth\",\"colorbar\":{\"outlinewidth\":0,\"ticks\":\"\"}}],\"histogram2d\":[{\"type\":\"histogram2d\",\"colorbar\":{\"outlinewidth\":0,\"ticks\":\"\"},\"colorscale\":[[0.0,\"#0d0887\"],[0.1111111111111111,\"#46039f\"],[0.2222222222222222,\"#7201a8\"],[0.3333333333333333,\"#9c179e\"],[0.4444444444444444,\"#bd3786\"],[0.5555555555555556,\"#d8576b\"],[0.6666666666666666,\"#ed7953\"],[0.7777777777777778,\"#fb9f3a\"],[0.8888888888888888,\"#fdca26\"],[1.0,\"#f0f921\"]]}],\"heatmap\":[{\"type\":\"heatmap\",\"colorbar\":{\"outlinewidth\":0,\"ticks\":\"\"},\"colorscale\":[[0.0,\"#0d0887\"],[0.1111111111111111,\"#46039f\"],[0.2222222222222222,\"#7201a8\"],[0.3333333333333333,\"#9c179e\"],[0.4444444444444444,\"#bd3786\"],[0.5555555555555556,\"#d8576b\"],[0.6666666666666666,\"#ed7953\"],[0.7777777777777778,\"#fb9f3a\"],[0.8888888888888888,\"#fdca26\"],[1.0,\"#f0f921\"]]}],\"heatmapgl\":[{\"type\":\"heatmapgl\",\"colorbar\":{\"outlinewidth\":0,\"ticks\":\"\"},\"colorscale\":[[0.0,\"#0d0887\"],[0.1111111111111111,\"#46039f\"],[0.2222222222222222,\"#7201a8\"],[0.3333333333333333,\"#9c179e\"],[0.4444444444444444,\"#bd3786\"],[0.5555555555555556,\"#d8576b\"],[0.6666666666666666,\"#ed7953\"],[0.7777777777777778,\"#fb9f3a\"],[0.8888888888888888,\"#fdca26\"],[1.0,\"#f0f921\"]]}],\"contourcarpet\":[{\"type\":\"contourcarpet\",\"colorbar\":{\"outlinewidth\":0,\"ticks\":\"\"}}],\"contour\":[{\"type\":\"contour\",\"colorbar\":{\"outlinewidth\":0,\"ticks\":\"\"},\"colorscale\":[[0.0,\"#0d0887\"],[0.1111111111111111,\"#46039f\"],[0.2222222222222222,\"#7201a8\"],[0.3333333333333333,\"#9c179e\"],[0.4444444444444444,\"#bd3786\"],[0.5555555555555556,\"#d8576b\"],[0.6666666666666666,\"#ed7953\"],[0.7777777777777778,\"#fb9f3a\"],[0.8888888888888888,\"#fdca26\"],[1.0,\"#f0f921\"]]}],\"surface\":[{\"type\":\"surface\",\"colorbar\":{\"outlinewidth\":0,\"ticks\":\"\"},\"colorscale\":[[0.0,\"#0d0887\"],[0.1111111111111111,\"#46039f\"],[0.2222222222222222,\"#7201a8\"],[0.3333333333333333,\"#9c179e\"],[0.4444444444444444,\"#bd3786\"],[0.5555555555555556,\"#d8576b\"],[0.6666666666666666,\"#ed7953\"],[0.7777777777777778,\"#fb9f3a\"],[0.8888888888888888,\"#fdca26\"],[1.0,\"#f0f921\"]]}],\"mesh3d\":[{\"type\":\"mesh3d\",\"colorbar\":{\"outlinewidth\":0,\"ticks\":\"\"}}],\"scatter\":[{\"fillpattern\":{\"fillmode\":\"overlay\",\"size\":10,\"solidity\":0.2},\"type\":\"scatter\"}],\"parcoords\":[{\"type\":\"parcoords\",\"line\":{\"colorbar\":{\"outlinewidth\":0,\"ticks\":\"\"}}}],\"scatterpolargl\":[{\"type\":\"scatterpolargl\",\"marker\":{\"colorbar\":{\"outlinewidth\":0,\"ticks\":\"\"}}}],\"bar\":[{\"error_x\":{\"color\":\"#2a3f5f\"},\"error_y\":{\"color\":\"#2a3f5f\"},\"marker\":{\"line\":{\"color\":\"#E5ECF6\",\"width\":0.5},\"pattern\":{\"fillmode\":\"overlay\",\"size\":10,\"solidity\":0.2}},\"type\":\"bar\"}],\"scattergeo\":[{\"type\":\"scattergeo\",\"marker\":{\"colorbar\":{\"outlinewidth\":0,\"ticks\":\"\"}}}],\"scatterpolar\":[{\"type\":\"scatterpolar\",\"marker\":{\"colorbar\":{\"outlinewidth\":0,\"ticks\":\"\"}}}],\"histogram\":[{\"marker\":{\"pattern\":{\"fillmode\":\"overlay\",\"size\":10,\"solidity\":0.2}},\"type\":\"histogram\"}],\"scattergl\":[{\"type\":\"scattergl\",\"marker\":{\"colorbar\":{\"outlinewidth\":0,\"ticks\":\"\"}}}],\"scatter3d\":[{\"type\":\"scatter3d\",\"line\":{\"colorbar\":{\"outlinewidth\":0,\"ticks\":\"\"}},\"marker\":{\"colorbar\":{\"outlinewidth\":0,\"ticks\":\"\"}}}],\"scattermapbox\":[{\"type\":\"scattermapbox\",\"marker\":{\"colorbar\":{\"outlinewidth\":0,\"ticks\":\"\"}}}],\"scatterternary\":[{\"type\":\"scatterternary\",\"marker\":{\"colorbar\":{\"outlinewidth\":0,\"ticks\":\"\"}}}],\"scattercarpet\":[{\"type\":\"scattercarpet\",\"marker\":{\"colorbar\":{\"outlinewidth\":0,\"ticks\":\"\"}}}],\"carpet\":[{\"aaxis\":{\"endlinecolor\":\"#2a3f5f\",\"gridcolor\":\"white\",\"linecolor\":\"white\",\"minorgridcolor\":\"white\",\"startlinecolor\":\"#2a3f5f\"},\"baxis\":{\"endlinecolor\":\"#2a3f5f\",\"gridcolor\":\"white\",\"linecolor\":\"white\",\"minorgridcolor\":\"white\",\"startlinecolor\":\"#2a3f5f\"},\"type\":\"carpet\"}],\"table\":[{\"cells\":{\"fill\":{\"color\":\"#EBF0F8\"},\"line\":{\"color\":\"white\"}},\"header\":{\"fill\":{\"color\":\"#C8D4E3\"},\"line\":{\"color\":\"white\"}},\"type\":\"table\"}],\"barpolar\":[{\"marker\":{\"line\":{\"color\":\"#E5ECF6\",\"width\":0.5},\"pattern\":{\"fillmode\":\"overlay\",\"size\":10,\"solidity\":0.2}},\"type\":\"barpolar\"}],\"pie\":[{\"automargin\":true,\"type\":\"pie\"}]},\"layout\":{\"autotypenumbers\":\"strict\",\"colorway\":[\"#636efa\",\"#EF553B\",\"#00cc96\",\"#ab63fa\",\"#FFA15A\",\"#19d3f3\",\"#FF6692\",\"#B6E880\",\"#FF97FF\",\"#FECB52\"],\"font\":{\"color\":\"#2a3f5f\"},\"hovermode\":\"closest\",\"hoverlabel\":{\"align\":\"left\"},\"paper_bgcolor\":\"white\",\"plot_bgcolor\":\"#E5ECF6\",\"polar\":{\"bgcolor\":\"#E5ECF6\",\"angularaxis\":{\"gridcolor\":\"white\",\"linecolor\":\"white\",\"ticks\":\"\"},\"radialaxis\":{\"gridcolor\":\"white\",\"linecolor\":\"white\",\"ticks\":\"\"}},\"ternary\":{\"bgcolor\":\"#E5ECF6\",\"aaxis\":{\"gridcolor\":\"white\",\"linecolor\":\"white\",\"ticks\":\"\"},\"baxis\":{\"gridcolor\":\"white\",\"linecolor\":\"white\",\"ticks\":\"\"},\"caxis\":{\"gridcolor\":\"white\",\"linecolor\":\"white\",\"ticks\":\"\"}},\"coloraxis\":{\"colorbar\":{\"outlinewidth\":0,\"ticks\":\"\"}},\"colorscale\":{\"sequential\":[[0.0,\"#0d0887\"],[0.1111111111111111,\"#46039f\"],[0.2222222222222222,\"#7201a8\"],[0.3333333333333333,\"#9c179e\"],[0.4444444444444444,\"#bd3786\"],[0.5555555555555556,\"#d8576b\"],[0.6666666666666666,\"#ed7953\"],[0.7777777777777778,\"#fb9f3a\"],[0.8888888888888888,\"#fdca26\"],[1.0,\"#f0f921\"]],\"sequentialminus\":[[0.0,\"#0d0887\"],[0.1111111111111111,\"#46039f\"],[0.2222222222222222,\"#7201a8\"],[0.3333333333333333,\"#9c179e\"],[0.4444444444444444,\"#bd3786\"],[0.5555555555555556,\"#d8576b\"],[0.6666666666666666,\"#ed7953\"],[0.7777777777777778,\"#fb9f3a\"],[0.8888888888888888,\"#fdca26\"],[1.0,\"#f0f921\"]],\"diverging\":[[0,\"#8e0152\"],[0.1,\"#c51b7d\"],[0.2,\"#de77ae\"],[0.3,\"#f1b6da\"],[0.4,\"#fde0ef\"],[0.5,\"#f7f7f7\"],[0.6,\"#e6f5d0\"],[0.7,\"#b8e186\"],[0.8,\"#7fbc41\"],[0.9,\"#4d9221\"],[1,\"#276419\"]]},\"xaxis\":{\"gridcolor\":\"white\",\"linecolor\":\"white\",\"ticks\":\"\",\"title\":{\"standoff\":15},\"zerolinecolor\":\"white\",\"automargin\":true,\"zerolinewidth\":2},\"yaxis\":{\"gridcolor\":\"white\",\"linecolor\":\"white\",\"ticks\":\"\",\"title\":{\"standoff\":15},\"zerolinecolor\":\"white\",\"automargin\":true,\"zerolinewidth\":2},\"scene\":{\"xaxis\":{\"backgroundcolor\":\"#E5ECF6\",\"gridcolor\":\"white\",\"linecolor\":\"white\",\"showbackground\":true,\"ticks\":\"\",\"zerolinecolor\":\"white\",\"gridwidth\":2},\"yaxis\":{\"backgroundcolor\":\"#E5ECF6\",\"gridcolor\":\"white\",\"linecolor\":\"white\",\"showbackground\":true,\"ticks\":\"\",\"zerolinecolor\":\"white\",\"gridwidth\":2},\"zaxis\":{\"backgroundcolor\":\"#E5ECF6\",\"gridcolor\":\"white\",\"linecolor\":\"white\",\"showbackground\":true,\"ticks\":\"\",\"zerolinecolor\":\"white\",\"gridwidth\":2}},\"shapedefaults\":{\"line\":{\"color\":\"#2a3f5f\"}},\"annotationdefaults\":{\"arrowcolor\":\"#2a3f5f\",\"arrowhead\":0,\"arrowwidth\":1},\"geo\":{\"bgcolor\":\"white\",\"landcolor\":\"#E5ECF6\",\"subunitcolor\":\"white\",\"showland\":true,\"showlakes\":true,\"lakecolor\":\"white\"},\"title\":{\"x\":0.05},\"mapbox\":{\"style\":\"light\"}}},\"xaxis\":{\"anchor\":\"y\",\"domain\":[0.0,1.0],\"title\":{\"text\":\"year\"}},\"yaxis\":{\"anchor\":\"x\",\"domain\":[0.0,1.0],\"title\":{\"text\":\"Billions $\"}},\"legend\":{\"title\":{\"text\":\"company\"},\"tracegroupgap\":0},\"title\":{\"text\":\"Net Income\"}},                        {\"responsive\": true}                    ).then(function(){\n",
       "                            \n",
       "var gd = document.getElementById('c06e45ee-1110-4b5f-b2ae-8bd89b67376d');\n",
       "var x = new MutationObserver(function (mutations, observer) {{\n",
       "        var display = window.getComputedStyle(gd).display;\n",
       "        if (!display || display === 'none') {{\n",
       "            console.log([gd, 'removed!']);\n",
       "            Plotly.purge(gd);\n",
       "            observer.disconnect();\n",
       "        }}\n",
       "}});\n",
       "\n",
       "// Listen for the removal of the full notebook cells\n",
       "var notebookContainer = gd.closest('#notebook-container');\n",
       "if (notebookContainer) {{\n",
       "    x.observe(notebookContainer, {childList: true});\n",
       "}}\n",
       "\n",
       "// Listen for the clearing of the current output cell\n",
       "var outputEl = gd.closest('.output');\n",
       "if (outputEl) {{\n",
       "    x.observe(outputEl, {childList: true});\n",
       "}}\n",
       "\n",
       "                        })                };                });            </script>        </div>"
      ]
     },
     "metadata": {},
     "output_type": "display_data"
    }
   ],
   "source": [
    "fig = ex.line(x=intel_years,y=[nvidia_net,intel_net], labels={\"x\":\"year\",\"value\":\"Billions $\", \"variable\":\"company\"}, title= \"Net Income\")\n",
    "fig.show()"
   ]
  },
  {
   "cell_type": "code",
   "execution_count": 144,
   "id": "4b324090-cca4-49fa-80ba-3c2d636a901c",
   "metadata": {
    "tags": []
   },
   "outputs": [
    {
     "data": {
      "application/vnd.plotly.v1+json": {
       "config": {
        "plotlyServerURL": "https://plot.ly"
       },
       "data": [
        {
         "alignmentgroup": "True",
         "hovertemplate": "=%{x}<br>number of contacts=%{y}<extra></extra>",
         "legendgroup": "",
         "marker": {
          "color": "#636efa",
          "pattern": {
           "shape": ""
          }
         },
         "name": "",
         "offsetgroup": "",
         "orientation": "v",
         "showlegend": false,
         "textposition": "auto",
         "type": "bar",
         "x": [
          "nvidia",
          "intel"
         ],
         "xaxis": "x",
         "y": [
          9,
          29
         ],
         "yaxis": "y"
        }
       ],
       "layout": {
        "autosize": true,
        "barmode": "relative",
        "legend": {
         "tracegroupgap": 0
        },
        "template": {
         "data": {
          "bar": [
           {
            "error_x": {
             "color": "#2a3f5f"
            },
            "error_y": {
             "color": "#2a3f5f"
            },
            "marker": {
             "line": {
              "color": "#E5ECF6",
              "width": 0.5
             },
             "pattern": {
              "fillmode": "overlay",
              "size": 10,
              "solidity": 0.2
             }
            },
            "type": "bar"
           }
          ],
          "barpolar": [
           {
            "marker": {
             "line": {
              "color": "#E5ECF6",
              "width": 0.5
             },
             "pattern": {
              "fillmode": "overlay",
              "size": 10,
              "solidity": 0.2
             }
            },
            "type": "barpolar"
           }
          ],
          "carpet": [
           {
            "aaxis": {
             "endlinecolor": "#2a3f5f",
             "gridcolor": "white",
             "linecolor": "white",
             "minorgridcolor": "white",
             "startlinecolor": "#2a3f5f"
            },
            "baxis": {
             "endlinecolor": "#2a3f5f",
             "gridcolor": "white",
             "linecolor": "white",
             "minorgridcolor": "white",
             "startlinecolor": "#2a3f5f"
            },
            "type": "carpet"
           }
          ],
          "choropleth": [
           {
            "colorbar": {
             "outlinewidth": 0,
             "ticks": ""
            },
            "type": "choropleth"
           }
          ],
          "contour": [
           {
            "colorbar": {
             "outlinewidth": 0,
             "ticks": ""
            },
            "colorscale": [
             [
              0,
              "#0d0887"
             ],
             [
              0.1111111111111111,
              "#46039f"
             ],
             [
              0.2222222222222222,
              "#7201a8"
             ],
             [
              0.3333333333333333,
              "#9c179e"
             ],
             [
              0.4444444444444444,
              "#bd3786"
             ],
             [
              0.5555555555555556,
              "#d8576b"
             ],
             [
              0.6666666666666666,
              "#ed7953"
             ],
             [
              0.7777777777777778,
              "#fb9f3a"
             ],
             [
              0.8888888888888888,
              "#fdca26"
             ],
             [
              1,
              "#f0f921"
             ]
            ],
            "type": "contour"
           }
          ],
          "contourcarpet": [
           {
            "colorbar": {
             "outlinewidth": 0,
             "ticks": ""
            },
            "type": "contourcarpet"
           }
          ],
          "heatmap": [
           {
            "colorbar": {
             "outlinewidth": 0,
             "ticks": ""
            },
            "colorscale": [
             [
              0,
              "#0d0887"
             ],
             [
              0.1111111111111111,
              "#46039f"
             ],
             [
              0.2222222222222222,
              "#7201a8"
             ],
             [
              0.3333333333333333,
              "#9c179e"
             ],
             [
              0.4444444444444444,
              "#bd3786"
             ],
             [
              0.5555555555555556,
              "#d8576b"
             ],
             [
              0.6666666666666666,
              "#ed7953"
             ],
             [
              0.7777777777777778,
              "#fb9f3a"
             ],
             [
              0.8888888888888888,
              "#fdca26"
             ],
             [
              1,
              "#f0f921"
             ]
            ],
            "type": "heatmap"
           }
          ],
          "heatmapgl": [
           {
            "colorbar": {
             "outlinewidth": 0,
             "ticks": ""
            },
            "colorscale": [
             [
              0,
              "#0d0887"
             ],
             [
              0.1111111111111111,
              "#46039f"
             ],
             [
              0.2222222222222222,
              "#7201a8"
             ],
             [
              0.3333333333333333,
              "#9c179e"
             ],
             [
              0.4444444444444444,
              "#bd3786"
             ],
             [
              0.5555555555555556,
              "#d8576b"
             ],
             [
              0.6666666666666666,
              "#ed7953"
             ],
             [
              0.7777777777777778,
              "#fb9f3a"
             ],
             [
              0.8888888888888888,
              "#fdca26"
             ],
             [
              1,
              "#f0f921"
             ]
            ],
            "type": "heatmapgl"
           }
          ],
          "histogram": [
           {
            "marker": {
             "pattern": {
              "fillmode": "overlay",
              "size": 10,
              "solidity": 0.2
             }
            },
            "type": "histogram"
           }
          ],
          "histogram2d": [
           {
            "colorbar": {
             "outlinewidth": 0,
             "ticks": ""
            },
            "colorscale": [
             [
              0,
              "#0d0887"
             ],
             [
              0.1111111111111111,
              "#46039f"
             ],
             [
              0.2222222222222222,
              "#7201a8"
             ],
             [
              0.3333333333333333,
              "#9c179e"
             ],
             [
              0.4444444444444444,
              "#bd3786"
             ],
             [
              0.5555555555555556,
              "#d8576b"
             ],
             [
              0.6666666666666666,
              "#ed7953"
             ],
             [
              0.7777777777777778,
              "#fb9f3a"
             ],
             [
              0.8888888888888888,
              "#fdca26"
             ],
             [
              1,
              "#f0f921"
             ]
            ],
            "type": "histogram2d"
           }
          ],
          "histogram2dcontour": [
           {
            "colorbar": {
             "outlinewidth": 0,
             "ticks": ""
            },
            "colorscale": [
             [
              0,
              "#0d0887"
             ],
             [
              0.1111111111111111,
              "#46039f"
             ],
             [
              0.2222222222222222,
              "#7201a8"
             ],
             [
              0.3333333333333333,
              "#9c179e"
             ],
             [
              0.4444444444444444,
              "#bd3786"
             ],
             [
              0.5555555555555556,
              "#d8576b"
             ],
             [
              0.6666666666666666,
              "#ed7953"
             ],
             [
              0.7777777777777778,
              "#fb9f3a"
             ],
             [
              0.8888888888888888,
              "#fdca26"
             ],
             [
              1,
              "#f0f921"
             ]
            ],
            "type": "histogram2dcontour"
           }
          ],
          "mesh3d": [
           {
            "colorbar": {
             "outlinewidth": 0,
             "ticks": ""
            },
            "type": "mesh3d"
           }
          ],
          "parcoords": [
           {
            "line": {
             "colorbar": {
              "outlinewidth": 0,
              "ticks": ""
             }
            },
            "type": "parcoords"
           }
          ],
          "pie": [
           {
            "automargin": true,
            "type": "pie"
           }
          ],
          "scatter": [
           {
            "fillpattern": {
             "fillmode": "overlay",
             "size": 10,
             "solidity": 0.2
            },
            "type": "scatter"
           }
          ],
          "scatter3d": [
           {
            "line": {
             "colorbar": {
              "outlinewidth": 0,
              "ticks": ""
             }
            },
            "marker": {
             "colorbar": {
              "outlinewidth": 0,
              "ticks": ""
             }
            },
            "type": "scatter3d"
           }
          ],
          "scattercarpet": [
           {
            "marker": {
             "colorbar": {
              "outlinewidth": 0,
              "ticks": ""
             }
            },
            "type": "scattercarpet"
           }
          ],
          "scattergeo": [
           {
            "marker": {
             "colorbar": {
              "outlinewidth": 0,
              "ticks": ""
             }
            },
            "type": "scattergeo"
           }
          ],
          "scattergl": [
           {
            "marker": {
             "colorbar": {
              "outlinewidth": 0,
              "ticks": ""
             }
            },
            "type": "scattergl"
           }
          ],
          "scattermapbox": [
           {
            "marker": {
             "colorbar": {
              "outlinewidth": 0,
              "ticks": ""
             }
            },
            "type": "scattermapbox"
           }
          ],
          "scatterpolar": [
           {
            "marker": {
             "colorbar": {
              "outlinewidth": 0,
              "ticks": ""
             }
            },
            "type": "scatterpolar"
           }
          ],
          "scatterpolargl": [
           {
            "marker": {
             "colorbar": {
              "outlinewidth": 0,
              "ticks": ""
             }
            },
            "type": "scatterpolargl"
           }
          ],
          "scatterternary": [
           {
            "marker": {
             "colorbar": {
              "outlinewidth": 0,
              "ticks": ""
             }
            },
            "type": "scatterternary"
           }
          ],
          "surface": [
           {
            "colorbar": {
             "outlinewidth": 0,
             "ticks": ""
            },
            "colorscale": [
             [
              0,
              "#0d0887"
             ],
             [
              0.1111111111111111,
              "#46039f"
             ],
             [
              0.2222222222222222,
              "#7201a8"
             ],
             [
              0.3333333333333333,
              "#9c179e"
             ],
             [
              0.4444444444444444,
              "#bd3786"
             ],
             [
              0.5555555555555556,
              "#d8576b"
             ],
             [
              0.6666666666666666,
              "#ed7953"
             ],
             [
              0.7777777777777778,
              "#fb9f3a"
             ],
             [
              0.8888888888888888,
              "#fdca26"
             ],
             [
              1,
              "#f0f921"
             ]
            ],
            "type": "surface"
           }
          ],
          "table": [
           {
            "cells": {
             "fill": {
              "color": "#EBF0F8"
             },
             "line": {
              "color": "white"
             }
            },
            "header": {
             "fill": {
              "color": "#C8D4E3"
             },
             "line": {
              "color": "white"
             }
            },
            "type": "table"
           }
          ]
         },
         "layout": {
          "annotationdefaults": {
           "arrowcolor": "#2a3f5f",
           "arrowhead": 0,
           "arrowwidth": 1
          },
          "autotypenumbers": "strict",
          "coloraxis": {
           "colorbar": {
            "outlinewidth": 0,
            "ticks": ""
           }
          },
          "colorscale": {
           "diverging": [
            [
             0,
             "#8e0152"
            ],
            [
             0.1,
             "#c51b7d"
            ],
            [
             0.2,
             "#de77ae"
            ],
            [
             0.3,
             "#f1b6da"
            ],
            [
             0.4,
             "#fde0ef"
            ],
            [
             0.5,
             "#f7f7f7"
            ],
            [
             0.6,
             "#e6f5d0"
            ],
            [
             0.7,
             "#b8e186"
            ],
            [
             0.8,
             "#7fbc41"
            ],
            [
             0.9,
             "#4d9221"
            ],
            [
             1,
             "#276419"
            ]
           ],
           "sequential": [
            [
             0,
             "#0d0887"
            ],
            [
             0.1111111111111111,
             "#46039f"
            ],
            [
             0.2222222222222222,
             "#7201a8"
            ],
            [
             0.3333333333333333,
             "#9c179e"
            ],
            [
             0.4444444444444444,
             "#bd3786"
            ],
            [
             0.5555555555555556,
             "#d8576b"
            ],
            [
             0.6666666666666666,
             "#ed7953"
            ],
            [
             0.7777777777777778,
             "#fb9f3a"
            ],
            [
             0.8888888888888888,
             "#fdca26"
            ],
            [
             1,
             "#f0f921"
            ]
           ],
           "sequentialminus": [
            [
             0,
             "#0d0887"
            ],
            [
             0.1111111111111111,
             "#46039f"
            ],
            [
             0.2222222222222222,
             "#7201a8"
            ],
            [
             0.3333333333333333,
             "#9c179e"
            ],
            [
             0.4444444444444444,
             "#bd3786"
            ],
            [
             0.5555555555555556,
             "#d8576b"
            ],
            [
             0.6666666666666666,
             "#ed7953"
            ],
            [
             0.7777777777777778,
             "#fb9f3a"
            ],
            [
             0.8888888888888888,
             "#fdca26"
            ],
            [
             1,
             "#f0f921"
            ]
           ]
          },
          "colorway": [
           "#636efa",
           "#EF553B",
           "#00cc96",
           "#ab63fa",
           "#FFA15A",
           "#19d3f3",
           "#FF6692",
           "#B6E880",
           "#FF97FF",
           "#FECB52"
          ],
          "font": {
           "color": "#2a3f5f"
          },
          "geo": {
           "bgcolor": "white",
           "lakecolor": "white",
           "landcolor": "#E5ECF6",
           "showlakes": true,
           "showland": true,
           "subunitcolor": "white"
          },
          "hoverlabel": {
           "align": "left"
          },
          "hovermode": "closest",
          "mapbox": {
           "style": "light"
          },
          "paper_bgcolor": "white",
          "plot_bgcolor": "#E5ECF6",
          "polar": {
           "angularaxis": {
            "gridcolor": "white",
            "linecolor": "white",
            "ticks": ""
           },
           "bgcolor": "#E5ECF6",
           "radialaxis": {
            "gridcolor": "white",
            "linecolor": "white",
            "ticks": ""
           }
          },
          "scene": {
           "xaxis": {
            "backgroundcolor": "#E5ECF6",
            "gridcolor": "white",
            "gridwidth": 2,
            "linecolor": "white",
            "showbackground": true,
            "ticks": "",
            "zerolinecolor": "white"
           },
           "yaxis": {
            "backgroundcolor": "#E5ECF6",
            "gridcolor": "white",
            "gridwidth": 2,
            "linecolor": "white",
            "showbackground": true,
            "ticks": "",
            "zerolinecolor": "white"
           },
           "zaxis": {
            "backgroundcolor": "#E5ECF6",
            "gridcolor": "white",
            "gridwidth": 2,
            "linecolor": "white",
            "showbackground": true,
            "ticks": "",
            "zerolinecolor": "white"
           }
          },
          "shapedefaults": {
           "line": {
            "color": "#2a3f5f"
           }
          },
          "ternary": {
           "aaxis": {
            "gridcolor": "white",
            "linecolor": "white",
            "ticks": ""
           },
           "baxis": {
            "gridcolor": "white",
            "linecolor": "white",
            "ticks": ""
           },
           "bgcolor": "#E5ECF6",
           "caxis": {
            "gridcolor": "white",
            "linecolor": "white",
            "ticks": ""
           }
          },
          "title": {
           "x": 0.05
          },
          "xaxis": {
           "automargin": true,
           "gridcolor": "white",
           "linecolor": "white",
           "ticks": "",
           "title": {
            "standoff": 15
           },
           "zerolinecolor": "white",
           "zerolinewidth": 2
          },
          "yaxis": {
           "automargin": true,
           "gridcolor": "white",
           "linecolor": "white",
           "ticks": "",
           "title": {
            "standoff": 15
           },
           "zerolinecolor": "white",
           "zerolinewidth": 2
          }
         }
        },
        "title": {
         "text": "Contacts"
        },
        "xaxis": {
         "anchor": "y",
         "autorange": true,
         "domain": [
          0,
          1
         ],
         "range": [
          -0.5,
          1.5
         ],
         "title": {
          "text": ""
         },
         "type": "category"
        },
        "yaxis": {
         "anchor": "x",
         "autorange": true,
         "domain": [
          0,
          1
         ],
         "range": [
          0,
          30.526315789473685
         ],
         "title": {
          "text": "number of contacts"
         },
         "type": "linear"
        }
       }
      },
      "image/png": "[encoded data removed]",
      "text/html": [
       "<div>                            <div id=\"b56edcab-bbf0-46f8-b50e-2679324097cc\" class=\"plotly-graph-div\" style=\"height:525px; width:100%;\"></div>            <script type=\"text/javascript\">                require([\"plotly\"], function(Plotly) {                    window.PLOTLYENV=window.PLOTLYENV || {};                                    if (document.getElementById(\"b56edcab-bbf0-46f8-b50e-2679324097cc\")) {                    Plotly.newPlot(                        \"b56edcab-bbf0-46f8-b50e-2679324097cc\",                        [{\"alignmentgroup\":\"True\",\"hovertemplate\":\"=%{x}<br>number of contacts=%{y}<extra></extra>\",\"legendgroup\":\"\",\"marker\":{\"color\":\"#636efa\",\"pattern\":{\"shape\":\"\"}},\"name\":\"\",\"offsetgroup\":\"\",\"orientation\":\"v\",\"showlegend\":false,\"textposition\":\"auto\",\"x\":[\"nvidia\",\"intel\"],\"xaxis\":\"x\",\"y\":[9,29],\"yaxis\":\"y\",\"type\":\"bar\"}],                        {\"template\":{\"data\":{\"histogram2dcontour\":[{\"type\":\"histogram2dcontour\",\"colorbar\":{\"outlinewidth\":0,\"ticks\":\"\"},\"colorscale\":[[0.0,\"#0d0887\"],[0.1111111111111111,\"#46039f\"],[0.2222222222222222,\"#7201a8\"],[0.3333333333333333,\"#9c179e\"],[0.4444444444444444,\"#bd3786\"],[0.5555555555555556,\"#d8576b\"],[0.6666666666666666,\"#ed7953\"],[0.7777777777777778,\"#fb9f3a\"],[0.8888888888888888,\"#fdca26\"],[1.0,\"#f0f921\"]]}],\"choropleth\":[{\"type\":\"choropleth\",\"colorbar\":{\"outlinewidth\":0,\"ticks\":\"\"}}],\"histogram2d\":[{\"type\":\"histogram2d\",\"colorbar\":{\"outlinewidth\":0,\"ticks\":\"\"},\"colorscale\":[[0.0,\"#0d0887\"],[0.1111111111111111,\"#46039f\"],[0.2222222222222222,\"#7201a8\"],[0.3333333333333333,\"#9c179e\"],[0.4444444444444444,\"#bd3786\"],[0.5555555555555556,\"#d8576b\"],[0.6666666666666666,\"#ed7953\"],[0.7777777777777778,\"#fb9f3a\"],[0.8888888888888888,\"#fdca26\"],[1.0,\"#f0f921\"]]}],\"heatmap\":[{\"type\":\"heatmap\",\"colorbar\":{\"outlinewidth\":0,\"ticks\":\"\"},\"colorscale\":[[0.0,\"#0d0887\"],[0.1111111111111111,\"#46039f\"],[0.2222222222222222,\"#7201a8\"],[0.3333333333333333,\"#9c179e\"],[0.4444444444444444,\"#bd3786\"],[0.5555555555555556,\"#d8576b\"],[0.6666666666666666,\"#ed7953\"],[0.7777777777777778,\"#fb9f3a\"],[0.8888888888888888,\"#fdca26\"],[1.0,\"#f0f921\"]]}],\"heatmapgl\":[{\"type\":\"heatmapgl\",\"colorbar\":{\"outlinewidth\":0,\"ticks\":\"\"},\"colorscale\":[[0.0,\"#0d0887\"],[0.1111111111111111,\"#46039f\"],[0.2222222222222222,\"#7201a8\"],[0.3333333333333333,\"#9c179e\"],[0.4444444444444444,\"#bd3786\"],[0.5555555555555556,\"#d8576b\"],[0.6666666666666666,\"#ed7953\"],[0.7777777777777778,\"#fb9f3a\"],[0.8888888888888888,\"#fdca26\"],[1.0,\"#f0f921\"]]}],\"contourcarpet\":[{\"type\":\"contourcarpet\",\"colorbar\":{\"outlinewidth\":0,\"ticks\":\"\"}}],\"contour\":[{\"type\":\"contour\",\"colorbar\":{\"outlinewidth\":0,\"ticks\":\"\"},\"colorscale\":[[0.0,\"#0d0887\"],[0.1111111111111111,\"#46039f\"],[0.2222222222222222,\"#7201a8\"],[0.3333333333333333,\"#9c179e\"],[0.4444444444444444,\"#bd3786\"],[0.5555555555555556,\"#d8576b\"],[0.6666666666666666,\"#ed7953\"],[0.7777777777777778,\"#fb9f3a\"],[0.8888888888888888,\"#fdca26\"],[1.0,\"#f0f921\"]]}],\"surface\":[{\"type\":\"surface\",\"colorbar\":{\"outlinewidth\":0,\"ticks\":\"\"},\"colorscale\":[[0.0,\"#0d0887\"],[0.1111111111111111,\"#46039f\"],[0.2222222222222222,\"#7201a8\"],[0.3333333333333333,\"#9c179e\"],[0.4444444444444444,\"#bd3786\"],[0.5555555555555556,\"#d8576b\"],[0.6666666666666666,\"#ed7953\"],[0.7777777777777778,\"#fb9f3a\"],[0.8888888888888888,\"#fdca26\"],[1.0,\"#f0f921\"]]}],\"mesh3d\":[{\"type\":\"mesh3d\",\"colorbar\":{\"outlinewidth\":0,\"ticks\":\"\"}}],\"scatter\":[{\"fillpattern\":{\"fillmode\":\"overlay\",\"size\":10,\"solidity\":0.2},\"type\":\"scatter\"}],\"parcoords\":[{\"type\":\"parcoords\",\"line\":{\"colorbar\":{\"outlinewidth\":0,\"ticks\":\"\"}}}],\"scatterpolargl\":[{\"type\":\"scatterpolargl\",\"marker\":{\"colorbar\":{\"outlinewidth\":0,\"ticks\":\"\"}}}],\"bar\":[{\"error_x\":{\"color\":\"#2a3f5f\"},\"error_y\":{\"color\":\"#2a3f5f\"},\"marker\":{\"line\":{\"color\":\"#E5ECF6\",\"width\":0.5},\"pattern\":{\"fillmode\":\"overlay\",\"size\":10,\"solidity\":0.2}},\"type\":\"bar\"}],\"scattergeo\":[{\"type\":\"scattergeo\",\"marker\":{\"colorbar\":{\"outlinewidth\":0,\"ticks\":\"\"}}}],\"scatterpolar\":[{\"type\":\"scatterpolar\",\"marker\":{\"colorbar\":{\"outlinewidth\":0,\"ticks\":\"\"}}}],\"histogram\":[{\"marker\":{\"pattern\":{\"fillmode\":\"overlay\",\"size\":10,\"solidity\":0.2}},\"type\":\"histogram\"}],\"scattergl\":[{\"type\":\"scattergl\",\"marker\":{\"colorbar\":{\"outlinewidth\":0,\"ticks\":\"\"}}}],\"scatter3d\":[{\"type\":\"scatter3d\",\"line\":{\"colorbar\":{\"outlinewidth\":0,\"ticks\":\"\"}},\"marker\":{\"colorbar\":{\"outlinewidth\":0,\"ticks\":\"\"}}}],\"scattermapbox\":[{\"type\":\"scattermapbox\",\"marker\":{\"colorbar\":{\"outlinewidth\":0,\"ticks\":\"\"}}}],\"scatterternary\":[{\"type\":\"scatterternary\",\"marker\":{\"colorbar\":{\"outlinewidth\":0,\"ticks\":\"\"}}}],\"scattercarpet\":[{\"type\":\"scattercarpet\",\"marker\":{\"colorbar\":{\"outlinewidth\":0,\"ticks\":\"\"}}}],\"carpet\":[{\"aaxis\":{\"endlinecolor\":\"#2a3f5f\",\"gridcolor\":\"white\",\"linecolor\":\"white\",\"minorgridcolor\":\"white\",\"startlinecolor\":\"#2a3f5f\"},\"baxis\":{\"endlinecolor\":\"#2a3f5f\",\"gridcolor\":\"white\",\"linecolor\":\"white\",\"minorgridcolor\":\"white\",\"startlinecolor\":\"#2a3f5f\"},\"type\":\"carpet\"}],\"table\":[{\"cells\":{\"fill\":{\"color\":\"#EBF0F8\"},\"line\":{\"color\":\"white\"}},\"header\":{\"fill\":{\"color\":\"#C8D4E3\"},\"line\":{\"color\":\"white\"}},\"type\":\"table\"}],\"barpolar\":[{\"marker\":{\"line\":{\"color\":\"#E5ECF6\",\"width\":0.5},\"pattern\":{\"fillmode\":\"overlay\",\"size\":10,\"solidity\":0.2}},\"type\":\"barpolar\"}],\"pie\":[{\"automargin\":true,\"type\":\"pie\"}]},\"layout\":{\"autotypenumbers\":\"strict\",\"colorway\":[\"#636efa\",\"#EF553B\",\"#00cc96\",\"#ab63fa\",\"#FFA15A\",\"#19d3f3\",\"#FF6692\",\"#B6E880\",\"#FF97FF\",\"#FECB52\"],\"font\":{\"color\":\"#2a3f5f\"},\"hovermode\":\"closest\",\"hoverlabel\":{\"align\":\"left\"},\"paper_bgcolor\":\"white\",\"plot_bgcolor\":\"#E5ECF6\",\"polar\":{\"bgcolor\":\"#E5ECF6\",\"angularaxis\":{\"gridcolor\":\"white\",\"linecolor\":\"white\",\"ticks\":\"\"},\"radialaxis\":{\"gridcolor\":\"white\",\"linecolor\":\"white\",\"ticks\":\"\"}},\"ternary\":{\"bgcolor\":\"#E5ECF6\",\"aaxis\":{\"gridcolor\":\"white\",\"linecolor\":\"white\",\"ticks\":\"\"},\"baxis\":{\"gridcolor\":\"white\",\"linecolor\":\"white\",\"ticks\":\"\"},\"caxis\":{\"gridcolor\":\"white\",\"linecolor\":\"white\",\"ticks\":\"\"}},\"coloraxis\":{\"colorbar\":{\"outlinewidth\":0,\"ticks\":\"\"}},\"colorscale\":{\"sequential\":[[0.0,\"#0d0887\"],[0.1111111111111111,\"#46039f\"],[0.2222222222222222,\"#7201a8\"],[0.3333333333333333,\"#9c179e\"],[0.4444444444444444,\"#bd3786\"],[0.5555555555555556,\"#d8576b\"],[0.6666666666666666,\"#ed7953\"],[0.7777777777777778,\"#fb9f3a\"],[0.8888888888888888,\"#fdca26\"],[1.0,\"#f0f921\"]],\"sequentialminus\":[[0.0,\"#0d0887\"],[0.1111111111111111,\"#46039f\"],[0.2222222222222222,\"#7201a8\"],[0.3333333333333333,\"#9c179e\"],[0.4444444444444444,\"#bd3786\"],[0.5555555555555556,\"#d8576b\"],[0.6666666666666666,\"#ed7953\"],[0.7777777777777778,\"#fb9f3a\"],[0.8888888888888888,\"#fdca26\"],[1.0,\"#f0f921\"]],\"diverging\":[[0,\"#8e0152\"],[0.1,\"#c51b7d\"],[0.2,\"#de77ae\"],[0.3,\"#f1b6da\"],[0.4,\"#fde0ef\"],[0.5,\"#f7f7f7\"],[0.6,\"#e6f5d0\"],[0.7,\"#b8e186\"],[0.8,\"#7fbc41\"],[0.9,\"#4d9221\"],[1,\"#276419\"]]},\"xaxis\":{\"gridcolor\":\"white\",\"linecolor\":\"white\",\"ticks\":\"\",\"title\":{\"standoff\":15},\"zerolinecolor\":\"white\",\"automargin\":true,\"zerolinewidth\":2},\"yaxis\":{\"gridcolor\":\"white\",\"linecolor\":\"white\",\"ticks\":\"\",\"title\":{\"standoff\":15},\"zerolinecolor\":\"white\",\"automargin\":true,\"zerolinewidth\":2},\"scene\":{\"xaxis\":{\"backgroundcolor\":\"#E5ECF6\",\"gridcolor\":\"white\",\"linecolor\":\"white\",\"showbackground\":true,\"ticks\":\"\",\"zerolinecolor\":\"white\",\"gridwidth\":2},\"yaxis\":{\"backgroundcolor\":\"#E5ECF6\",\"gridcolor\":\"white\",\"linecolor\":\"white\",\"showbackground\":true,\"ticks\":\"\",\"zerolinecolor\":\"white\",\"gridwidth\":2},\"zaxis\":{\"backgroundcolor\":\"#E5ECF6\",\"gridcolor\":\"white\",\"linecolor\":\"white\",\"showbackground\":true,\"ticks\":\"\",\"zerolinecolor\":\"white\",\"gridwidth\":2}},\"shapedefaults\":{\"line\":{\"color\":\"#2a3f5f\"}},\"annotationdefaults\":{\"arrowcolor\":\"#2a3f5f\",\"arrowhead\":0,\"arrowwidth\":1},\"geo\":{\"bgcolor\":\"white\",\"landcolor\":\"#E5ECF6\",\"subunitcolor\":\"white\",\"showland\":true,\"showlakes\":true,\"lakecolor\":\"white\"},\"title\":{\"x\":0.05},\"mapbox\":{\"style\":\"light\"}}},\"xaxis\":{\"anchor\":\"y\",\"domain\":[0.0,1.0],\"title\":{\"text\":\"\"}},\"yaxis\":{\"anchor\":\"x\",\"domain\":[0.0,1.0],\"title\":{\"text\":\"number of contacts\"}},\"legend\":{\"tracegroupgap\":0},\"title\":{\"text\":\"Contacts\"},\"barmode\":\"relative\"},                        {\"responsive\": true}                    ).then(function(){\n",
       "                            \n",
       "var gd = document.getElementById('b56edcab-bbf0-46f8-b50e-2679324097cc');\n",
       "var x = new MutationObserver(function (mutations, observer) {{\n",
       "        var display = window.getComputedStyle(gd).display;\n",
       "        if (!display || display === 'none') {{\n",
       "            console.log([gd, 'removed!']);\n",
       "            Plotly.purge(gd);\n",
       "            observer.disconnect();\n",
       "        }}\n",
       "}});\n",
       "\n",
       "// Listen for the removal of the full notebook cells\n",
       "var notebookContainer = gd.closest('#notebook-container');\n",
       "if (notebookContainer) {{\n",
       "    x.observe(notebookContainer, {childList: true});\n",
       "}}\n",
       "\n",
       "// Listen for the clearing of the current output cell\n",
       "var outputEl = gd.closest('.output');\n",
       "if (outputEl) {{\n",
       "    x.observe(outputEl, {childList: true});\n",
       "}}\n",
       "\n",
       "                        })                };                });            </script>        </div>"
      ]
     },
     "metadata": {},
     "output_type": "display_data"
    }
   ],
   "source": [
    "fig = ex.bar(x=[\"nvidia\", \"intel\"],y=[len(nvidia_contacts),len(intel_contacts)], title= \"Contacts\", labels={\"x\":\"\",\"y\":\"number of contacts\"})\n",
    "fig.show()"
   ]
  },
  {
   "cell_type": "code",
   "execution_count": 145,
   "id": "145a289a-cd50-4600-afe4-f128f82a75b8",
   "metadata": {
    "tags": []
   },
   "outputs": [
    {
     "data": {
      "text/html": [
       "<div>\n",
       "<style scoped>\n",
       "    .dataframe tbody tr th:only-of-type {\n",
       "        vertical-align: middle;\n",
       "    }\n",
       "\n",
       "    .dataframe tbody tr th {\n",
       "        vertical-align: top;\n",
       "    }\n",
       "\n",
       "    .dataframe thead th {\n",
       "        text-align: right;\n",
       "    }\n",
       "</style>\n",
       "<table border=\"1\" class=\"dataframe\">\n",
       "  <thead>\n",
       "    <tr style=\"text-align: right;\">\n",
       "      <th></th>\n",
       "      <th>name</th>\n",
       "      <th>position</th>\n",
       "      <th>linkedin</th>\n",
       "    </tr>\n",
       "  </thead>\n",
       "  <tbody>\n",
       "    <tr>\n",
       "      <th>0</th>\n",
       "      <td>Jensen Huang</td>\n",
       "      <td>Founder| President and CEO| Board Member</td>\n",
       "      <td>https://www.linkedin.com/in/jenhsunhuang/</td>\n",
       "    </tr>\n",
       "    <tr>\n",
       "      <th>1</th>\n",
       "      <td>Tim Teter</td>\n",
       "      <td>EVP| General Counsel and Secretary</td>\n",
       "      <td>https://www.linkedin.com/in/timothy-s-teter-02...</td>\n",
       "    </tr>\n",
       "    <tr>\n",
       "      <th>2</th>\n",
       "      <td>Colette Kress</td>\n",
       "      <td>EVP and Chief Financial Officer</td>\n",
       "      <td>https://www.linkedin.com/in/colette-kress-2232...</td>\n",
       "    </tr>\n",
       "    <tr>\n",
       "      <th>3</th>\n",
       "      <td>Jay Puri</td>\n",
       "      <td>EVP| Worldwide Field Operations</td>\n",
       "      <td>https://www.linkedin.com/in/jaypuri/</td>\n",
       "    </tr>\n",
       "    <tr>\n",
       "      <th>4</th>\n",
       "      <td>Debora Shoquist</td>\n",
       "      <td>EVP| Operations</td>\n",
       "      <td>https://www.linkedin.com/in/debbie-shoquist-62...</td>\n",
       "    </tr>\n",
       "    <tr>\n",
       "      <th>5</th>\n",
       "      <td>Chris A. Malachowsky</td>\n",
       "      <td>Founder</td>\n",
       "      <td>https://www.linkedin.com/in/brooke-seawell-895...</td>\n",
       "    </tr>\n",
       "    <tr>\n",
       "      <th>6</th>\n",
       "      <td>Brooke Seawell</td>\n",
       "      <td>Board Member</td>\n",
       "      <td>https://www.linkedin.com/in/rob-burgess-0b654816/</td>\n",
       "    </tr>\n",
       "    <tr>\n",
       "      <th>7</th>\n",
       "      <td>Rob Burgess</td>\n",
       "      <td>Board Member</td>\n",
       "      <td>https://www.linkedin.com/in/dawn-hudson1/</td>\n",
       "    </tr>\n",
       "    <tr>\n",
       "      <th>8</th>\n",
       "      <td>Aarti Shah</td>\n",
       "      <td>Board Member</td>\n",
       "      <td>https://www.linkedin.com/in/mark-a-stevens/</td>\n",
       "    </tr>\n",
       "  </tbody>\n",
       "</table>\n",
       "</div>"
      ],
      "text/plain": [
       "                   name                                  position  \\\n",
       "0          Jensen Huang  Founder| President and CEO| Board Member   \n",
       "1             Tim Teter        EVP| General Counsel and Secretary   \n",
       "2         Colette Kress           EVP and Chief Financial Officer   \n",
       "3              Jay Puri           EVP| Worldwide Field Operations   \n",
       "4       Debora Shoquist                           EVP| Operations   \n",
       "5  Chris A. Malachowsky                                   Founder   \n",
       "6        Brooke Seawell                              Board Member   \n",
       "7           Rob Burgess                              Board Member   \n",
       "8            Aarti Shah                              Board Member   \n",
       "\n",
       "                                           linkedin   \n",
       "0          https://www.linkedin.com/in/jenhsunhuang/  \n",
       "1  https://www.linkedin.com/in/timothy-s-teter-02...  \n",
       "2  https://www.linkedin.com/in/colette-kress-2232...  \n",
       "3               https://www.linkedin.com/in/jaypuri/  \n",
       "4  https://www.linkedin.com/in/debbie-shoquist-62...  \n",
       "5  https://www.linkedin.com/in/brooke-seawell-895...  \n",
       "6  https://www.linkedin.com/in/rob-burgess-0b654816/  \n",
       "7          https://www.linkedin.com/in/dawn-hudson1/  \n",
       "8        https://www.linkedin.com/in/mark-a-stevens/  "
      ]
     },
     "execution_count": 145,
     "metadata": {},
     "output_type": "execute_result"
    }
   ],
   "source": [
    "nvidia_contacts"
   ]
  },
  {
   "cell_type": "code",
   "execution_count": 121,
   "id": "cd3580a7-9d51-4940-bfa8-43ed970170c2",
   "metadata": {
    "tags": []
   },
   "outputs": [
    {
     "data": {
      "text/html": [
       "<div>\n",
       "<style scoped>\n",
       "    .dataframe tbody tr th:only-of-type {\n",
       "        vertical-align: middle;\n",
       "    }\n",
       "\n",
       "    .dataframe tbody tr th {\n",
       "        vertical-align: top;\n",
       "    }\n",
       "\n",
       "    .dataframe thead th {\n",
       "        text-align: right;\n",
       "    }\n",
       "</style>\n",
       "<table border=\"1\" class=\"dataframe\">\n",
       "  <thead>\n",
       "    <tr style=\"text-align: right;\">\n",
       "      <th></th>\n",
       "      <th>name</th>\n",
       "      <th>position</th>\n",
       "      <th>linkedin</th>\n",
       "    </tr>\n",
       "  </thead>\n",
       "  <tbody>\n",
       "    <tr>\n",
       "      <th>0</th>\n",
       "      <td>Patrick Gelsinger</td>\n",
       "      <td>Chief Executive Officer</td>\n",
       "      <td>https://www.linkedin.com/in/patgelsinger/</td>\n",
       "    </tr>\n",
       "    <tr>\n",
       "      <th>1</th>\n",
       "      <td>George S. Davis</td>\n",
       "      <td>Chief Financial Officer| Executive Vice President</td>\n",
       "      <td>https://www.twitter.com/@PGelsinger</td>\n",
       "    </tr>\n",
       "    <tr>\n",
       "      <th>2</th>\n",
       "      <td>Michelle Johnston Holthaus</td>\n",
       "      <td>Executive Vice President; General Manager| Cli...</td>\n",
       "      <td>https://www.linkedin.com/in/michellejohnstonho...</td>\n",
       "    </tr>\n",
       "    <tr>\n",
       "      <th>3</th>\n",
       "      <td>Safroadu Yeboah-Amankwah</td>\n",
       "      <td>Chief Strategy Officer| Senior Vice President</td>\n",
       "      <td>https://www.linkedin.com/in/christy-pambianchi/</td>\n",
       "    </tr>\n",
       "    <tr>\n",
       "      <th>4</th>\n",
       "      <td>Christine Pambianchi</td>\n",
       "      <td>Chief People Officer| Executive Vice President</td>\n",
       "      <td>https://www.linkedin.com/in/sandra-rivera-6a24...</td>\n",
       "    </tr>\n",
       "    <tr>\n",
       "      <th>5</th>\n",
       "      <td>Sandra Rivera</td>\n",
       "      <td>Executive Vice President| General Manager| Dat...</td>\n",
       "      <td>https://www.linkedin.com/in/archie-deskus-985b...</td>\n",
       "    </tr>\n",
       "    <tr>\n",
       "      <th>6</th>\n",
       "      <td>Archana Deskus</td>\n",
       "      <td>Chief Information Officer| Senior Vice President</td>\n",
       "      <td>https://www.linkedin.com/in/karenmwalker/</td>\n",
       "    </tr>\n",
       "    <tr>\n",
       "      <th>7</th>\n",
       "      <td>Karen M. Walker</td>\n",
       "      <td>Chief Marketing Officer| Senior Vice President</td>\n",
       "      <td>https://twitter.com/KarMWalker</td>\n",
       "    </tr>\n",
       "    <tr>\n",
       "      <th>8</th>\n",
       "      <td>Greg Lavender</td>\n",
       "      <td>Chief Technology Officer| Senior Vice Presiden...</td>\n",
       "      <td>https://www.linkedin.com/in/greglavender/</td>\n",
       "    </tr>\n",
       "    <tr>\n",
       "      <th>9</th>\n",
       "      <td>Navin Shenoy</td>\n",
       "      <td>Executive Vice President and General Manager| ...</td>\n",
       "      <td>https://www.linkedin.com/in/navin-shenoy-9b600...</td>\n",
       "    </tr>\n",
       "    <tr>\n",
       "      <th>10</th>\n",
       "      <td>Ann B. Kelleher</td>\n",
       "      <td>Senior Vice President and General Manager of T...</td>\n",
       "      <td>https://www.linkedin.com/in/ann-kelleher-6184b89/</td>\n",
       "    </tr>\n",
       "    <tr>\n",
       "      <th>11</th>\n",
       "      <td>Raja M. Koduri</td>\n",
       "      <td>Senior Vice President| General Manager| Accele...</td>\n",
       "      <td>https://www.linkedin.com/in/raja-koduri-3a51611/</td>\n",
       "    </tr>\n",
       "    <tr>\n",
       "      <th>12</th>\n",
       "      <td>Allon Stabinsky</td>\n",
       "      <td>Senior Vice President| Chief Deputy General Co...</td>\n",
       "      <td>https://www.linkedin.com/in/allon-stabinsky-57...</td>\n",
       "    </tr>\n",
       "    <tr>\n",
       "      <th>13</th>\n",
       "      <td>Thomas P. Lantzsch</td>\n",
       "      <td>Senior Vice President| General Manager| Intern...</td>\n",
       "      <td>https://www.linkedin.com/in/thomas-tom-lantzsc...</td>\n",
       "    </tr>\n",
       "    <tr>\n",
       "      <th>14</th>\n",
       "      <td>Amnon Shashua</td>\n",
       "      <td>Senior Vice President| President and CEO of Mo...</td>\n",
       "      <td>https://www.linkedin.com/in/amnon-shashua/</td>\n",
       "    </tr>\n",
       "    <tr>\n",
       "      <th>15</th>\n",
       "      <td>Randhir Thakur</td>\n",
       "      <td>Senior Vice President| President of Intel Foun...</td>\n",
       "      <td>https://www.linkedin.com/in/dr-randhir-thakur-...</td>\n",
       "    </tr>\n",
       "    <tr>\n",
       "      <th>16</th>\n",
       "      <td>Nick McKeown</td>\n",
       "      <td>Senior Vice President| General Manager| Networ...</td>\n",
       "      <td>https://www.linkedin.com/in/nick-mckeown-4902716/</td>\n",
       "    </tr>\n",
       "    <tr>\n",
       "      <th>17</th>\n",
       "      <td>Sunil Shenoy</td>\n",
       "      <td>Senior Vice President| General Manager| Design...</td>\n",
       "      <td>https://www.linkedin.com/in/sunil-shenoy-05ab4b7/</td>\n",
       "    </tr>\n",
       "    <tr>\n",
       "      <th>18</th>\n",
       "      <td>Rui Wang</td>\n",
       "      <td>Senior Vice President| Chair of Intel China</td>\n",
       "      <td>https://www.linkedin.com/in/rui-wang-7b4a37/</td>\n",
       "    </tr>\n",
       "    <tr>\n",
       "      <th>19</th>\n",
       "      <td>Keyvan Esfarjani</td>\n",
       "      <td>Executive Vice President; Chief Global Operati...</td>\n",
       "      <td>https://www.linkedin.com/in/keyvan-esfarjani-3...</td>\n",
       "    </tr>\n",
       "    <tr>\n",
       "      <th>20</th>\n",
       "      <td>Richard A. Uhlig</td>\n",
       "      <td>VP of Technology| Systems Architecture and Cli...</td>\n",
       "      <td>https://www.linkedin.com/in/richard-uhlig-6615...</td>\n",
       "    </tr>\n",
       "    <tr>\n",
       "      <th>21</th>\n",
       "      <td>Omar Ishrak</td>\n",
       "      <td>Chairman of the Board</td>\n",
       "      <td>https://www.linkedin.com/in/omar-ishrak/</td>\n",
       "    </tr>\n",
       "    <tr>\n",
       "      <th>22</th>\n",
       "      <td>Jim Goetz</td>\n",
       "      <td>Independent Director</td>\n",
       "      <td>https://www.linkedin.com/in/goetzjim/</td>\n",
       "    </tr>\n",
       "    <tr>\n",
       "      <th>23</th>\n",
       "      <td>Andrea J. Goldsmith</td>\n",
       "      <td>Independent Director</td>\n",
       "      <td>https://twitter.com/jimgoetz</td>\n",
       "    </tr>\n",
       "    <tr>\n",
       "      <th>24</th>\n",
       "      <td>Alyssa Henry</td>\n",
       "      <td>Independent Director</td>\n",
       "      <td>https://www.linkedin.com/in/andrea-goldsmith-0...</td>\n",
       "    </tr>\n",
       "    <tr>\n",
       "      <th>25</th>\n",
       "      <td>Tsu-Jae King Liu</td>\n",
       "      <td>Independent Director</td>\n",
       "      <td>https://www.linkedin.com/in/alyssa-henry-0905692/</td>\n",
       "    </tr>\n",
       "    <tr>\n",
       "      <th>26</th>\n",
       "      <td>Risa Lavizzo-Mourey</td>\n",
       "      <td>Independent Director</td>\n",
       "      <td>https://www.linkedin.com/in/risalavizzo/</td>\n",
       "    </tr>\n",
       "    <tr>\n",
       "      <th>27</th>\n",
       "      <td>Dion J. Weisler</td>\n",
       "      <td>Independent Director</td>\n",
       "      <td>https://www.linkedin.com/in/dion-weisler-4355183/</td>\n",
       "    </tr>\n",
       "    <tr>\n",
       "      <th>28</th>\n",
       "      <td>Frank D. Yeary</td>\n",
       "      <td>Director</td>\n",
       "      <td>https://www.linkedin.com/in/198505/</td>\n",
       "    </tr>\n",
       "  </tbody>\n",
       "</table>\n",
       "</div>"
      ],
      "text/plain": [
       "                          name  \\\n",
       "0            Patrick Gelsinger   \n",
       "1              George S. Davis   \n",
       "2   Michelle Johnston Holthaus   \n",
       "3     Safroadu Yeboah-Amankwah   \n",
       "4         Christine Pambianchi   \n",
       "5                Sandra Rivera   \n",
       "6               Archana Deskus   \n",
       "7              Karen M. Walker   \n",
       "8                Greg Lavender   \n",
       "9                 Navin Shenoy   \n",
       "10             Ann B. Kelleher   \n",
       "11              Raja M. Koduri   \n",
       "12             Allon Stabinsky   \n",
       "13          Thomas P. Lantzsch   \n",
       "14               Amnon Shashua   \n",
       "15              Randhir Thakur   \n",
       "16                Nick McKeown   \n",
       "17                Sunil Shenoy   \n",
       "18                    Rui Wang   \n",
       "19            Keyvan Esfarjani   \n",
       "20            Richard A. Uhlig   \n",
       "21                 Omar Ishrak   \n",
       "22                   Jim Goetz   \n",
       "23         Andrea J. Goldsmith   \n",
       "24                Alyssa Henry   \n",
       "25            Tsu-Jae King Liu   \n",
       "26         Risa Lavizzo-Mourey   \n",
       "27             Dion J. Weisler   \n",
       "28              Frank D. Yeary   \n",
       "\n",
       "                                             position  \\\n",
       "0                             Chief Executive Officer   \n",
       "1   Chief Financial Officer| Executive Vice President   \n",
       "2   Executive Vice President; General Manager| Cli...   \n",
       "3       Chief Strategy Officer| Senior Vice President   \n",
       "4      Chief People Officer| Executive Vice President   \n",
       "5   Executive Vice President| General Manager| Dat...   \n",
       "6    Chief Information Officer| Senior Vice President   \n",
       "7      Chief Marketing Officer| Senior Vice President   \n",
       "8   Chief Technology Officer| Senior Vice Presiden...   \n",
       "9   Executive Vice President and General Manager| ...   \n",
       "10  Senior Vice President and General Manager of T...   \n",
       "11  Senior Vice President| General Manager| Accele...   \n",
       "12  Senior Vice President| Chief Deputy General Co...   \n",
       "13  Senior Vice President| General Manager| Intern...   \n",
       "14  Senior Vice President| President and CEO of Mo...   \n",
       "15  Senior Vice President| President of Intel Foun...   \n",
       "16  Senior Vice President| General Manager| Networ...   \n",
       "17  Senior Vice President| General Manager| Design...   \n",
       "18        Senior Vice President| Chair of Intel China   \n",
       "19  Executive Vice President; Chief Global Operati...   \n",
       "20  VP of Technology| Systems Architecture and Cli...   \n",
       "21                              Chairman of the Board   \n",
       "22                               Independent Director   \n",
       "23                               Independent Director   \n",
       "24                               Independent Director   \n",
       "25                               Independent Director   \n",
       "26                               Independent Director   \n",
       "27                               Independent Director   \n",
       "28                                           Director   \n",
       "\n",
       "                                            linkedin   \n",
       "0           https://www.linkedin.com/in/patgelsinger/  \n",
       "1                 https://www.twitter.com/@PGelsinger  \n",
       "2   https://www.linkedin.com/in/michellejohnstonho...  \n",
       "3     https://www.linkedin.com/in/christy-pambianchi/  \n",
       "4   https://www.linkedin.com/in/sandra-rivera-6a24...  \n",
       "5   https://www.linkedin.com/in/archie-deskus-985b...  \n",
       "6           https://www.linkedin.com/in/karenmwalker/  \n",
       "7                      https://twitter.com/KarMWalker  \n",
       "8           https://www.linkedin.com/in/greglavender/  \n",
       "9   https://www.linkedin.com/in/navin-shenoy-9b600...  \n",
       "10  https://www.linkedin.com/in/ann-kelleher-6184b89/  \n",
       "11   https://www.linkedin.com/in/raja-koduri-3a51611/  \n",
       "12  https://www.linkedin.com/in/allon-stabinsky-57...  \n",
       "13  https://www.linkedin.com/in/thomas-tom-lantzsc...  \n",
       "14         https://www.linkedin.com/in/amnon-shashua/  \n",
       "15  https://www.linkedin.com/in/dr-randhir-thakur-...  \n",
       "16  https://www.linkedin.com/in/nick-mckeown-4902716/  \n",
       "17  https://www.linkedin.com/in/sunil-shenoy-05ab4b7/  \n",
       "18       https://www.linkedin.com/in/rui-wang-7b4a37/  \n",
       "19  https://www.linkedin.com/in/keyvan-esfarjani-3...  \n",
       "20  https://www.linkedin.com/in/richard-uhlig-6615...  \n",
       "21           https://www.linkedin.com/in/omar-ishrak/  \n",
       "22              https://www.linkedin.com/in/goetzjim/  \n",
       "23                       https://twitter.com/jimgoetz  \n",
       "24  https://www.linkedin.com/in/andrea-goldsmith-0...  \n",
       "25  https://www.linkedin.com/in/alyssa-henry-0905692/  \n",
       "26           https://www.linkedin.com/in/risalavizzo/  \n",
       "27  https://www.linkedin.com/in/dion-weisler-4355183/  \n",
       "28                https://www.linkedin.com/in/198505/  "
      ]
     },
     "execution_count": 121,
     "metadata": {},
     "output_type": "execute_result"
    }
   ],
   "source": [
    "intel_contacts"
   ]
  }
 ],
 "metadata": {
  "kernelspec": {
   "display_name": "Python 3.7.13 ('scrapco')",
   "language": "python",
   "name": "python3"
  },
  "language_info": {
   "codemirror_mode": {
    "name": "ipython",
    "version": 3
   },
   "file_extension": ".py",
   "mimetype": "text/x-python",
   "name": "python",
   "nbconvert_exporter": "python",
   "pygments_lexer": "ipython3",
   "version": "3.7.13"
  },
  "vscode": {
   "interpreter": {
    "hash": "0928c10ac2a2c028a23ef6d142a921d7a69492adae0da3a3c6e1bcbd4afc2c20"
   }
  }
 },
 "nbformat": 4,
 "nbformat_minor": 5
}
